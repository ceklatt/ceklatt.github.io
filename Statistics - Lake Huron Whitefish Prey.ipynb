{
 "cells": [
  {
   "cell_type": "code",
   "execution_count": null,
   "metadata": {},
   "outputs": [],
   "source": [
    "# DSC 530\n",
    "# Courtney Klatt\n",
    "# Final Project"
   ]
  },
  {
   "cell_type": "code",
   "execution_count": 7,
   "metadata": {},
   "outputs": [],
   "source": [
    "import numpy as np\n",
    "import pandas as pd\n",
    "from datetime import datetime\n",
    "import matplotlib\n",
    "import matplotlib.pyplot as plt\n",
    "%matplotlib inline\n",
    "import random\n",
    "import seaborn as sns\n",
    "import thinkstats2\n",
    "import thinkplot"
   ]
  },
  {
   "cell_type": "code",
   "execution_count": 8,
   "metadata": {},
   "outputs": [],
   "source": [
    "abundance = pd.read_csv('preyabundance.csv')\n",
    "length = pd.read_csv('preylength.csv')"
   ]
  },
  {
   "cell_type": "code",
   "execution_count": 3,
   "metadata": {},
   "outputs": [
    {
     "data": {
      "text/html": [
       "<div>\n",
       "<style scoped>\n",
       "    .dataframe tbody tr th:only-of-type {\n",
       "        vertical-align: middle;\n",
       "    }\n",
       "\n",
       "    .dataframe tbody tr th {\n",
       "        vertical-align: top;\n",
       "    }\n",
       "\n",
       "    .dataframe thead th {\n",
       "        text-align: right;\n",
       "    }\n",
       "</style>\n",
       "<table border=\"1\" class=\"dataframe\">\n",
       "  <thead>\n",
       "    <tr style=\"text-align: right;\">\n",
       "      <th></th>\n",
       "      <th>lake</th>\n",
       "      <th>location</th>\n",
       "      <th>gear</th>\n",
       "      <th>date</th>\n",
       "      <th>year</th>\n",
       "      <th>fish_id</th>\n",
       "      <th>yolk_sac</th>\n",
       "      <th>latitude</th>\n",
       "      <th>longitude</th>\n",
       "      <th>total_length_mm</th>\n",
       "      <th>...</th>\n",
       "      <th>notonectidae_count</th>\n",
       "      <th>terrestrial_insect_count</th>\n",
       "      <th>amphipod_count</th>\n",
       "      <th>mayfly_count</th>\n",
       "      <th>polyphemus_count</th>\n",
       "      <th>mite_count</th>\n",
       "      <th>leptodora_count</th>\n",
       "      <th>bythotrephes_count</th>\n",
       "      <th>spider_count</th>\n",
       "      <th>holopedium_count</th>\n",
       "    </tr>\n",
       "  </thead>\n",
       "  <tbody>\n",
       "    <tr>\n",
       "      <th>0</th>\n",
       "      <td>Huron</td>\n",
       "      <td>Monaghan Point</td>\n",
       "      <td>Seine</td>\n",
       "      <td>7/5/2018</td>\n",
       "      <td>2018</td>\n",
       "      <td>463</td>\n",
       "      <td>NaN</td>\n",
       "      <td>45.1629</td>\n",
       "      <td>-83.3589</td>\n",
       "      <td>41.0</td>\n",
       "      <td>...</td>\n",
       "      <td>NaN</td>\n",
       "      <td>NaN</td>\n",
       "      <td>NaN</td>\n",
       "      <td>NaN</td>\n",
       "      <td>NaN</td>\n",
       "      <td>NaN</td>\n",
       "      <td>NaN</td>\n",
       "      <td>NaN</td>\n",
       "      <td>NaN</td>\n",
       "      <td>NaN</td>\n",
       "    </tr>\n",
       "    <tr>\n",
       "      <th>1</th>\n",
       "      <td>Huron</td>\n",
       "      <td>Monaghan Point</td>\n",
       "      <td>Seine</td>\n",
       "      <td>7/5/2018</td>\n",
       "      <td>2018</td>\n",
       "      <td>464</td>\n",
       "      <td>NaN</td>\n",
       "      <td>45.1629</td>\n",
       "      <td>-83.3589</td>\n",
       "      <td>40.0</td>\n",
       "      <td>...</td>\n",
       "      <td>NaN</td>\n",
       "      <td>NaN</td>\n",
       "      <td>NaN</td>\n",
       "      <td>NaN</td>\n",
       "      <td>NaN</td>\n",
       "      <td>NaN</td>\n",
       "      <td>NaN</td>\n",
       "      <td>1.0</td>\n",
       "      <td>NaN</td>\n",
       "      <td>NaN</td>\n",
       "    </tr>\n",
       "    <tr>\n",
       "      <th>2</th>\n",
       "      <td>Huron</td>\n",
       "      <td>Monaghan Point</td>\n",
       "      <td>Seine</td>\n",
       "      <td>7/5/2018</td>\n",
       "      <td>2018</td>\n",
       "      <td>465</td>\n",
       "      <td>NaN</td>\n",
       "      <td>45.1629</td>\n",
       "      <td>-83.3589</td>\n",
       "      <td>45.0</td>\n",
       "      <td>...</td>\n",
       "      <td>NaN</td>\n",
       "      <td>NaN</td>\n",
       "      <td>NaN</td>\n",
       "      <td>NaN</td>\n",
       "      <td>NaN</td>\n",
       "      <td>NaN</td>\n",
       "      <td>NaN</td>\n",
       "      <td>NaN</td>\n",
       "      <td>NaN</td>\n",
       "      <td>NaN</td>\n",
       "    </tr>\n",
       "    <tr>\n",
       "      <th>3</th>\n",
       "      <td>Huron</td>\n",
       "      <td>Monaghan Point</td>\n",
       "      <td>Seine</td>\n",
       "      <td>7/5/2018</td>\n",
       "      <td>2018</td>\n",
       "      <td>466</td>\n",
       "      <td>NaN</td>\n",
       "      <td>45.1629</td>\n",
       "      <td>-83.3589</td>\n",
       "      <td>45.0</td>\n",
       "      <td>...</td>\n",
       "      <td>NaN</td>\n",
       "      <td>NaN</td>\n",
       "      <td>NaN</td>\n",
       "      <td>NaN</td>\n",
       "      <td>NaN</td>\n",
       "      <td>NaN</td>\n",
       "      <td>NaN</td>\n",
       "      <td>2.0</td>\n",
       "      <td>NaN</td>\n",
       "      <td>NaN</td>\n",
       "    </tr>\n",
       "    <tr>\n",
       "      <th>4</th>\n",
       "      <td>Huron</td>\n",
       "      <td>Monaghan Point</td>\n",
       "      <td>Seine</td>\n",
       "      <td>7/5/2018</td>\n",
       "      <td>2018</td>\n",
       "      <td>467</td>\n",
       "      <td>NaN</td>\n",
       "      <td>45.1629</td>\n",
       "      <td>-83.3589</td>\n",
       "      <td>43.0</td>\n",
       "      <td>...</td>\n",
       "      <td>NaN</td>\n",
       "      <td>NaN</td>\n",
       "      <td>NaN</td>\n",
       "      <td>NaN</td>\n",
       "      <td>NaN</td>\n",
       "      <td>NaN</td>\n",
       "      <td>NaN</td>\n",
       "      <td>NaN</td>\n",
       "      <td>NaN</td>\n",
       "      <td>NaN</td>\n",
       "    </tr>\n",
       "  </tbody>\n",
       "</table>\n",
       "<p>5 rows × 33 columns</p>\n",
       "</div>"
      ],
      "text/plain": [
       "    lake        location   gear      date  year  fish_id yolk_sac  latitude  \\\n",
       "0  Huron  Monaghan Point  Seine  7/5/2018  2018      463      NaN   45.1629   \n",
       "1  Huron  Monaghan Point  Seine  7/5/2018  2018      464      NaN   45.1629   \n",
       "2  Huron  Monaghan Point  Seine  7/5/2018  2018      465      NaN   45.1629   \n",
       "3  Huron  Monaghan Point  Seine  7/5/2018  2018      466      NaN   45.1629   \n",
       "4  Huron  Monaghan Point  Seine  7/5/2018  2018      467      NaN   45.1629   \n",
       "\n",
       "   longitude  total_length_mm  ...  notonectidae_count  \\\n",
       "0   -83.3589             41.0  ...                 NaN   \n",
       "1   -83.3589             40.0  ...                 NaN   \n",
       "2   -83.3589             45.0  ...                 NaN   \n",
       "3   -83.3589             45.0  ...                 NaN   \n",
       "4   -83.3589             43.0  ...                 NaN   \n",
       "\n",
       "   terrestrial_insect_count  amphipod_count  mayfly_count  polyphemus_count  \\\n",
       "0                       NaN             NaN           NaN               NaN   \n",
       "1                       NaN             NaN           NaN               NaN   \n",
       "2                       NaN             NaN           NaN               NaN   \n",
       "3                       NaN             NaN           NaN               NaN   \n",
       "4                       NaN             NaN           NaN               NaN   \n",
       "\n",
       "   mite_count  leptodora_count  bythotrephes_count  spider_count  \\\n",
       "0         NaN              NaN                 NaN           NaN   \n",
       "1         NaN              NaN                 1.0           NaN   \n",
       "2         NaN              NaN                 NaN           NaN   \n",
       "3         NaN              NaN                 2.0           NaN   \n",
       "4         NaN              NaN                 NaN           NaN   \n",
       "\n",
       "   holopedium_count  \n",
       "0               NaN  \n",
       "1               NaN  \n",
       "2               NaN  \n",
       "3               NaN  \n",
       "4               NaN  \n",
       "\n",
       "[5 rows x 33 columns]"
      ]
     },
     "execution_count": 3,
     "metadata": {},
     "output_type": "execute_result"
    }
   ],
   "source": [
    "abundance.head()"
   ]
  },
  {
   "cell_type": "code",
   "execution_count": 40,
   "metadata": {},
   "outputs": [
    {
     "data": {
      "text/plain": [
       "Text(0.5, 1.0, 'Total Fish Length (mm)')"
      ]
     },
     "execution_count": 40,
     "metadata": {},
     "output_type": "execute_result"
    },
    {
     "data": {
      "image/png": "[encoded data removed]",
      "text/plain": [
       "<Figure size 432x288 with 1 Axes>"
      ]
     },
     "metadata": {
      "needs_background": "light"
     },
     "output_type": "display_data"
    }
   ],
   "source": [
    "abundance['total_length_mm'].hist(bins=20)\n",
    "plt.title('Total Fish Length (mm)')"
   ]
  },
  {
   "cell_type": "code",
   "execution_count": 15,
   "metadata": {},
   "outputs": [
    {
     "data": {
      "text/plain": [
       "28.63837934105075"
      ]
     },
     "execution_count": 15,
     "metadata": {},
     "output_type": "execute_result"
    }
   ],
   "source": [
    "abundance['total_length_mm'].mean()"
   ]
  },
  {
   "cell_type": "markdown",
   "metadata": {},
   "source": [
    "abundance['total_length_mm'].mode()\n"
   ]
  },
  {
   "cell_type": "code",
   "execution_count": 39,
   "metadata": {},
   "outputs": [
    {
     "data": {
      "text/plain": [
       "Text(0.5, 1.0, 'Abundance by Year')"
      ]
     },
     "execution_count": 39,
     "metadata": {},
     "output_type": "execute_result"
    },
    {
     "data": {
      "image/png": "[encoded data removed]",
      "text/plain": [
       "<Figure size 432x288 with 1 Axes>"
      ]
     },
     "metadata": {
      "needs_background": "light"
     },
     "output_type": "display_data"
    }
   ],
   "source": [
    "abundance['year'].hist()\n",
    "plt.title('Abundance by Year')"
   ]
  },
  {
   "cell_type": "code",
   "execution_count": 46,
   "metadata": {},
   "outputs": [
    {
     "data": {
      "text/plain": [
       "Text(0.5, 1.0, 'Yolk Sac')"
      ]
     },
     "execution_count": 46,
     "metadata": {},
     "output_type": "execute_result"
    },
    {
     "data": {
      "image/png": "[encoded data removed]",
      "text/plain": [
       "<Figure size 432x288 with 1 Axes>"
      ]
     },
     "metadata": {
      "needs_background": "light"
     },
     "output_type": "display_data"
    }
   ],
   "source": [
    "abundance['yolk_sac'].hist(bins=3, grid = False)\n",
    "plt.title('Yolk Sac')"
   ]
  },
  {
   "cell_type": "code",
   "execution_count": 37,
   "metadata": {},
   "outputs": [
    {
     "data": {
      "text/plain": [
       "Text(0.5, 1.0, 'Calanoid Copepod Length')"
      ]
     },
     "execution_count": 37,
     "metadata": {},
     "output_type": "execute_result"
    },
    {
     "data": {
      "image/png": "[encoded data removed]",
      "text/plain": [
       "<Figure size 432x288 with 1 Axes>"
      ]
     },
     "metadata": {
      "needs_background": "light"
     },
     "output_type": "display_data"
    }
   ],
   "source": [
    "length['calanoid_copepod_length'].hist()\n",
    "plt.title('Calanoid Copepod Length')"
   ]
  },
  {
   "cell_type": "code",
   "execution_count": 48,
   "metadata": {},
   "outputs": [
    {
     "data": {
      "text/plain": [
       "Text(0.5, 1.0, 'Calanoid Copepod Abundance')"
      ]
     },
     "execution_count": 48,
     "metadata": {},
     "output_type": "execute_result"
    },
    {
     "data": {
      "image/png": "[encoded data removed]",
      "text/plain": [
       "<Figure size 432x288 with 1 Axes>"
      ]
     },
     "metadata": {
      "needs_background": "light"
     },
     "output_type": "display_data"
    }
   ],
   "source": [
    "abundance['calanoid_copepod_count'].hist()\n",
    "plt.title('Calanoid Copepod Abundance')"
   ]
  },
  {
   "cell_type": "code",
   "execution_count": 49,
   "metadata": {},
   "outputs": [
    {
     "data": {
      "text/plain": [
       "Text(0.5, 1.0, 'Cyclopoid Copepod Abundance')"
      ]
     },
     "execution_count": 49,
     "metadata": {},
     "output_type": "execute_result"
    },
    {
     "data": {
      "image/png": "[encoded data removed]",
      "text/plain": [
       "<Figure size 432x288 with 1 Axes>"
      ]
     },
     "metadata": {
      "needs_background": "light"
     },
     "output_type": "display_data"
    }
   ],
   "source": [
    "abundance['cyclopoid_copepod_count'].hist()\n",
    "plt.title('Cyclopoid Copepod Abundance')"
   ]
  },
  {
   "cell_type": "code",
   "execution_count": 50,
   "metadata": {},
   "outputs": [
    {
     "data": {
      "text/plain": [
       "Text(0.5, 1.0, 'Cyclopoid Copepod Length')"
      ]
     },
     "execution_count": 50,
     "metadata": {},
     "output_type": "execute_result"
    },
    {
     "data": {
      "image/png": "[encoded data removed]",
      "text/plain": [
       "<Figure size 432x288 with 1 Axes>"
      ]
     },
     "metadata": {
      "needs_background": "light"
     },
     "output_type": "display_data"
    }
   ],
   "source": [
    "length['cyclopoid_copepod_length'].hist()\n",
    "plt.title('Cyclopoid Copepod Length')"
   ]
  },
  {
   "cell_type": "code",
   "execution_count": 52,
   "metadata": {},
   "outputs": [
    {
     "data": {
      "text/plain": [
       "Text(0.5, 1.0, 'Harpacticoid  Abundance')"
      ]
     },
     "execution_count": 52,
     "metadata": {},
     "output_type": "execute_result"
    },
    {
     "data": {
      "image/png": "[encoded data removed]",
      "text/plain": [
       "<Figure size 432x288 with 1 Axes>"
      ]
     },
     "metadata": {
      "needs_background": "light"
     },
     "output_type": "display_data"
    }
   ],
   "source": [
    "abundance['harpacticoid_count'].hist()\n",
    "plt.title('Harpacticoid  Abundance')"
   ]
  },
  {
   "cell_type": "code",
   "execution_count": 55,
   "metadata": {},
   "outputs": [
    {
     "data": {
      "text/plain": [
       "Text(0.5, 1.0, 'Copepod Nauplii Abundance')"
      ]
     },
     "execution_count": 55,
     "metadata": {},
     "output_type": "execute_result"
    },
    {
     "data": {
      "image/png": "[encoded data removed]",
      "text/plain": [
       "<Figure size 432x288 with 1 Axes>"
      ]
     },
     "metadata": {
      "needs_background": "light"
     },
     "output_type": "display_data"
    }
   ],
   "source": [
    "abundance['copepod_nauplii_count'].hist()\n",
    "plt.title('Copepod Nauplii Abundance')\n"
   ]
  },
  {
   "cell_type": "code",
   "execution_count": 107,
   "metadata": {},
   "outputs": [
    {
     "data": {
      "text/plain": [
       "Text(0.5, 1.0, 'Bosmina Length')"
      ]
     },
     "execution_count": 107,
     "metadata": {},
     "output_type": "execute_result"
    },
    {
     "data": {
      "image/png": "[encoded data removed]",
      "text/plain": [
       "<Figure size 432x288 with 1 Axes>"
      ]
     },
     "metadata": {
      "needs_background": "light"
     },
     "output_type": "display_data"
    }
   ],
   "source": [
    "length['bosmina_length'].hist()\n",
    "plt.title('Bosmina Length')"
   ]
  },
  {
   "cell_type": "code",
   "execution_count": 57,
   "metadata": {},
   "outputs": [
    {
     "data": {
      "text/plain": [
       "Text(0.5, 1.0, 'Bosmina Abundance')"
      ]
     },
     "execution_count": 57,
     "metadata": {},
     "output_type": "execute_result"
    },
    {
     "data": {
      "image/png": "[encoded data removed]",
      "text/plain": [
       "<Figure size 432x288 with 1 Axes>"
      ]
     },
     "metadata": {
      "needs_background": "light"
     },
     "output_type": "display_data"
    }
   ],
   "source": [
    "abundance['bosmina_count'].hist()\n",
    "plt.title('Bosmina Abundance')"
   ]
  },
  {
   "cell_type": "code",
   "execution_count": 58,
   "metadata": {},
   "outputs": [
    {
     "data": {
      "text/plain": [
       "Text(0.5, 1.0, 'Daphnia Length')"
      ]
     },
     "execution_count": 58,
     "metadata": {},
     "output_type": "execute_result"
    },
    {
     "data": {
      "image/png": "[encoded data removed]",
      "text/plain": [
       "<Figure size 432x288 with 1 Axes>"
      ]
     },
     "metadata": {
      "needs_background": "light"
     },
     "output_type": "display_data"
    }
   ],
   "source": [
    "length['daphnia_length'].hist()\n",
    "plt.title('Daphnia Length')"
   ]
  },
  {
   "cell_type": "code",
   "execution_count": 59,
   "metadata": {},
   "outputs": [
    {
     "data": {
      "text/plain": [
       "Text(0.5, 1.0, 'Daphnia Abundance')"
      ]
     },
     "execution_count": 59,
     "metadata": {},
     "output_type": "execute_result"
    },
    {
     "data": {
      "image/png": "[encoded data removed]",
      "text/plain": [
       "<Figure size 432x288 with 1 Axes>"
      ]
     },
     "metadata": {
      "needs_background": "light"
     },
     "output_type": "display_data"
    }
   ],
   "source": [
    "abundance['daphnia_count'].hist()\n",
    "plt.title('Daphnia Abundance')"
   ]
  },
  {
   "cell_type": "code",
   "execution_count": 63,
   "metadata": {},
   "outputs": [
    {
     "data": {
      "text/plain": [
       "Text(0.5, 1.0, 'Polyphemus Abundance')"
      ]
     },
     "execution_count": 63,
     "metadata": {},
     "output_type": "execute_result"
    },
    {
     "data": {
      "image/png": "[encoded data removed]",
      "text/plain": [
       "<Figure size 432x288 with 1 Axes>"
      ]
     },
     "metadata": {
      "needs_background": "light"
     },
     "output_type": "display_data"
    }
   ],
   "source": [
    "abundance['polyphemus_count'].hist()\n",
    "plt.title('Polyphemus Abundance')"
   ]
  },
  {
   "cell_type": "code",
   "execution_count": 64,
   "metadata": {},
   "outputs": [
    {
     "data": {
      "text/plain": [
       "Text(0.5, 1.0, 'Polyphemus Length')"
      ]
     },
     "execution_count": 64,
     "metadata": {},
     "output_type": "execute_result"
    },
    {
     "data": {
      "image/png": "[encoded data removed]",
      "text/plain": [
       "<Figure size 432x288 with 1 Axes>"
      ]
     },
     "metadata": {
      "needs_background": "light"
     },
     "output_type": "display_data"
    }
   ],
   "source": [
    "length['polyphemus_length'].hist()\n",
    "plt.title('Polyphemus Length')"
   ]
  },
  {
   "cell_type": "code",
   "execution_count": 4,
   "metadata": {},
   "outputs": [
    {
     "data": {
      "text/plain": [
       "Text(0.5, 1.0, 'Chironomid Larvae Length')"
      ]
     },
     "execution_count": 4,
     "metadata": {},
     "output_type": "execute_result"
    },
    {
     "data": {
      "image/png": "[encoded data removed]",
      "text/plain": [
       "<Figure size 432x288 with 1 Axes>"
      ]
     },
     "metadata": {
      "needs_background": "light"
     },
     "output_type": "display_data"
    }
   ],
   "source": [
    "length['chironomid_larvae_length'].hist()\n",
    "plt.title('Chironomid Larvae Length')"
   ]
  },
  {
   "cell_type": "code",
   "execution_count": 6,
   "metadata": {},
   "outputs": [
    {
     "data": {
      "text/plain": [
       "Text(0.5, 1.0, 'Chironomid Larvae Abundance')"
      ]
     },
     "execution_count": 6,
     "metadata": {},
     "output_type": "execute_result"
    },
    {
     "data": {
      "image/png": "[encoded data removed]",
      "text/plain": [
       "<Figure size 432x288 with 1 Axes>"
      ]
     },
     "metadata": {
      "needs_background": "light"
     },
     "output_type": "display_data"
    }
   ],
   "source": [
    "abundance['chironomid_larvae_count'].hist()\n",
    "plt.title('Chironomid Larvae Abundance')"
   ]
  },
  {
   "cell_type": "code",
   "execution_count": 7,
   "metadata": {},
   "outputs": [
    {
     "data": {
      "text/plain": [
       "Text(0.5, 1.0, 'Chironomid Pupae Length')"
      ]
     },
     "execution_count": 7,
     "metadata": {},
     "output_type": "execute_result"
    },
    {
     "data": {
      "image/png": "[encoded data removed]",
      "text/plain": [
       "<Figure size 432x288 with 1 Axes>"
      ]
     },
     "metadata": {
      "needs_background": "light"
     },
     "output_type": "display_data"
    }
   ],
   "source": [
    "length['chironomid_pupae_length'].hist()\n",
    "plt.title('Chironomid Pupae Length')"
   ]
  },
  {
   "cell_type": "code",
   "execution_count": 8,
   "metadata": {},
   "outputs": [
    {
     "data": {
      "text/plain": [
       "Text(0.5, 1.0, 'Chironomid Pupae Abundance')"
      ]
     },
     "execution_count": 8,
     "metadata": {},
     "output_type": "execute_result"
    },
    {
     "data": {
      "image/png": "[encoded data removed]",
      "text/plain": [
       "<Figure size 432x288 with 1 Axes>"
      ]
     },
     "metadata": {
      "needs_background": "light"
     },
     "output_type": "display_data"
    }
   ],
   "source": [
    "abundance['chironomid_pupae_count'].hist()\n",
    "plt.title('Chironomid Pupae Abundance')"
   ]
  },
  {
   "cell_type": "code",
   "execution_count": 9,
   "metadata": {},
   "outputs": [
    {
     "data": {
      "text/plain": [
       "Text(0.5, 1.0, 'Chydorid Abundance')"
      ]
     },
     "execution_count": 9,
     "metadata": {},
     "output_type": "execute_result"
    },
    {
     "data": {
      "image/png": "[encoded data removed]",
      "text/plain": [
       "<Figure size 432x288 with 1 Axes>"
      ]
     },
     "metadata": {
      "needs_background": "light"
     },
     "output_type": "display_data"
    }
   ],
   "source": [
    "abundance['chydorid_count'].hist()\n",
    "plt.title('Chydorid Abundance')"
   ]
  },
  {
   "cell_type": "code",
   "execution_count": 10,
   "metadata": {},
   "outputs": [
    {
     "data": {
      "text/plain": [
       "Text(0.5, 1.0, 'Chydorid Length')"
      ]
     },
     "execution_count": 10,
     "metadata": {},
     "output_type": "execute_result"
    },
    {
     "data": {
      "image/png": "[encoded data removed]",
      "text/plain": [
       "<Figure size 432x288 with 1 Axes>"
      ]
     },
     "metadata": {
      "needs_background": "light"
     },
     "output_type": "display_data"
    }
   ],
   "source": [
    "length['chydorid_length'].hist()\n",
    "plt.title('Chydorid Length')"
   ]
  },
  {
   "cell_type": "code",
   "execution_count": 74,
   "metadata": {},
   "outputs": [
    {
     "data": {
      "text/plain": [
       "Text(0.5, 1.0, 'Location')"
      ]
     },
     "execution_count": 74,
     "metadata": {},
     "output_type": "execute_result"
    },
    {
     "data": {
      "image/png": "[encoded data removed]",
      "text/plain": [
       "<Figure size 432x288 with 1 Axes>"
      ]
     },
     "metadata": {
      "needs_background": "light"
     },
     "output_type": "display_data"
    }
   ],
   "source": [
    "abundance['location'].hist()\n",
    "plt.title('Location')"
   ]
  },
  {
   "cell_type": "code",
   "execution_count": 12,
   "metadata": {},
   "outputs": [
    {
     "data": {
      "text/plain": [
       "Text(0.5, 1.0, 'date')"
      ]
     },
     "execution_count": 12,
     "metadata": {},
     "output_type": "execute_result"
    },
    {
     "data": {
      "image/png": "[encoded data removed]",
      "text/plain": [
       "<Figure size 432x288 with 1 Axes>"
      ]
     },
     "metadata": {
      "needs_background": "light"
     },
     "output_type": "display_data"
    }
   ],
   "source": []
  },
  {
   "cell_type": "code",
   "execution_count": 35,
   "metadata": {},
   "outputs": [
    {
     "data": {
      "text/plain": [
       "0    2018\n",
       "dtype: int64"
      ]
     },
     "execution_count": 35,
     "metadata": {},
     "output_type": "execute_result"
    }
   ],
   "source": [
    "# Mean, median, and mode for all variables\n",
    "abundance['year'].mean()\n",
    "abundance['year'].median()\n",
    "abundance['year'].mode()"
   ]
  },
  {
   "cell_type": "code",
   "execution_count": 98,
   "metadata": {},
   "outputs": [
    {
     "data": {
      "text/plain": [
       "0    1.0\n",
       "dtype: float64"
      ]
     },
     "execution_count": 98,
     "metadata": {},
     "output_type": "execute_result"
    }
   ],
   "source": [
    "abundance['daphnia_count'].mode()"
   ]
  },
  {
   "cell_type": "code",
   "execution_count": null,
   "metadata": {},
   "outputs": [],
   "source": [
    "# Scatter plots"
   ]
  },
  {
   "cell_type": "code",
   "execution_count": 105,
   "metadata": {},
   "outputs": [
    {
     "data": {
      "text/plain": [
       "<AxesSubplot:xlabel='year', ylabel='bosmina_count'>"
      ]
     },
     "execution_count": 105,
     "metadata": {},
     "output_type": "execute_result"
    },
    {
     "data": {
      "image/png": "[encoded data removed]",
      "text/plain": [
       "<Figure size 432x288 with 1 Axes>"
      ]
     },
     "metadata": {
      "needs_background": "light"
     },
     "output_type": "display_data"
    }
   ],
   "source": [
    "abundance.plot(x='year', y='bosmina_count', kind='scatter')"
   ]
  },
  {
   "cell_type": "markdown",
   "metadata": {},
   "source": []
  },
  {
   "cell_type": "code",
   "execution_count": 108,
   "metadata": {},
   "outputs": [
    {
     "data": {
      "text/plain": [
       "<AxesSubplot:xlabel='total_length_mm', ylabel='daphnia_count'>"
      ]
     },
     "execution_count": 108,
     "metadata": {},
     "output_type": "execute_result"
    },
    {
     "data": {
      "image/png": "[encoded data removed]",
      "text/plain": [
       "<Figure size 432x288 with 1 Axes>"
      ]
     },
     "metadata": {
      "needs_background": "light"
     },
     "output_type": "display_data"
    }
   ],
   "source": [
    "abundance.plot(x='total_length_mm', y='daphnia_count', kind='scatter')"
   ]
  },
  {
   "cell_type": "code",
   "execution_count": 122,
   "metadata": {},
   "outputs": [],
   "source": [
    "# Remove columns I am not using\n",
    "del abundance['standard_length_mm']\n",
    "del abundance['harpacticoid_count']\n",
    "del abundance['copepod_nauplii_count']\n",
    "del abundance['diaphanasoma_count']\n",
    "del abundance['scapholeberis_count']\n",
    "del abundance['notonectidae_count']\n",
    "del abundance['terrestrial_insect_count']\n",
    "del abundance['amphipod_count']\n",
    "del abundance['mayfly_count']\n",
    "del abundance['mite_count']\n",
    "del abundance['leptodora_count']\n",
    "del abundance['bythotrephes_count']\n",
    "del abundance['spider_count']\n",
    "del abundance['holopedium_count']"
   ]
  },
  {
   "cell_type": "code",
   "execution_count": 124,
   "metadata": {},
   "outputs": [],
   "source": [
    "del abundance['latitude']\n",
    "del abundance['longitude']\n",
    "del abundance['fish_id']"
   ]
  },
  {
   "cell_type": "code",
   "execution_count": 125,
   "metadata": {},
   "outputs": [
    {
     "data": {
      "text/html": [
       "<div>\n",
       "<style scoped>\n",
       "    .dataframe tbody tr th:only-of-type {\n",
       "        vertical-align: middle;\n",
       "    }\n",
       "\n",
       "    .dataframe tbody tr th {\n",
       "        vertical-align: top;\n",
       "    }\n",
       "\n",
       "    .dataframe thead th {\n",
       "        text-align: right;\n",
       "    }\n",
       "</style>\n",
       "<table border=\"1\" class=\"dataframe\">\n",
       "  <thead>\n",
       "    <tr style=\"text-align: right;\">\n",
       "      <th></th>\n",
       "      <th>year</th>\n",
       "      <th>total_length_mm</th>\n",
       "      <th>calanoid_copepod_count</th>\n",
       "      <th>cyclopoid_copepod_count</th>\n",
       "      <th>bosmina_count</th>\n",
       "      <th>daphnia_count</th>\n",
       "      <th>chironomid_larvae_count</th>\n",
       "      <th>chydorid_count</th>\n",
       "      <th>chironomid_pupae_count</th>\n",
       "      <th>adult_chrironomid_count</th>\n",
       "      <th>polyphemus_count</th>\n",
       "    </tr>\n",
       "  </thead>\n",
       "  <tbody>\n",
       "    <tr>\n",
       "      <th>year</th>\n",
       "      <td>1.000000</td>\n",
       "      <td>-0.508029</td>\n",
       "      <td>0.162089</td>\n",
       "      <td>0.191729</td>\n",
       "      <td>0.104132</td>\n",
       "      <td>-0.103776</td>\n",
       "      <td>0.024218</td>\n",
       "      <td>-0.176395</td>\n",
       "      <td>-0.097714</td>\n",
       "      <td>-0.105508</td>\n",
       "      <td>0.064602</td>\n",
       "    </tr>\n",
       "    <tr>\n",
       "      <th>total_length_mm</th>\n",
       "      <td>-0.508029</td>\n",
       "      <td>1.000000</td>\n",
       "      <td>0.330720</td>\n",
       "      <td>0.236226</td>\n",
       "      <td>0.241801</td>\n",
       "      <td>0.572674</td>\n",
       "      <td>-0.026778</td>\n",
       "      <td>0.222597</td>\n",
       "      <td>-0.045504</td>\n",
       "      <td>-0.108372</td>\n",
       "      <td>-0.015808</td>\n",
       "    </tr>\n",
       "    <tr>\n",
       "      <th>calanoid_copepod_count</th>\n",
       "      <td>0.162089</td>\n",
       "      <td>0.330720</td>\n",
       "      <td>1.000000</td>\n",
       "      <td>0.254318</td>\n",
       "      <td>0.233727</td>\n",
       "      <td>0.478068</td>\n",
       "      <td>-0.074665</td>\n",
       "      <td>-0.135882</td>\n",
       "      <td>-0.046948</td>\n",
       "      <td>-0.212885</td>\n",
       "      <td>0.170912</td>\n",
       "    </tr>\n",
       "    <tr>\n",
       "      <th>cyclopoid_copepod_count</th>\n",
       "      <td>0.191729</td>\n",
       "      <td>0.236226</td>\n",
       "      <td>0.254318</td>\n",
       "      <td>1.000000</td>\n",
       "      <td>0.455114</td>\n",
       "      <td>0.134718</td>\n",
       "      <td>-0.110684</td>\n",
       "      <td>0.532639</td>\n",
       "      <td>-0.162415</td>\n",
       "      <td>-0.320767</td>\n",
       "      <td>-0.437650</td>\n",
       "    </tr>\n",
       "    <tr>\n",
       "      <th>bosmina_count</th>\n",
       "      <td>0.104132</td>\n",
       "      <td>0.241801</td>\n",
       "      <td>0.233727</td>\n",
       "      <td>0.455114</td>\n",
       "      <td>1.000000</td>\n",
       "      <td>0.243933</td>\n",
       "      <td>0.004654</td>\n",
       "      <td>0.909646</td>\n",
       "      <td>-0.125192</td>\n",
       "      <td>-0.024679</td>\n",
       "      <td>0.483872</td>\n",
       "    </tr>\n",
       "    <tr>\n",
       "      <th>daphnia_count</th>\n",
       "      <td>-0.103776</td>\n",
       "      <td>0.572674</td>\n",
       "      <td>0.478068</td>\n",
       "      <td>0.134718</td>\n",
       "      <td>0.243933</td>\n",
       "      <td>1.000000</td>\n",
       "      <td>1.000000</td>\n",
       "      <td>0.700944</td>\n",
       "      <td>-0.465690</td>\n",
       "      <td>NaN</td>\n",
       "      <td>NaN</td>\n",
       "    </tr>\n",
       "    <tr>\n",
       "      <th>chironomid_larvae_count</th>\n",
       "      <td>0.024218</td>\n",
       "      <td>-0.026778</td>\n",
       "      <td>-0.074665</td>\n",
       "      <td>-0.110684</td>\n",
       "      <td>0.004654</td>\n",
       "      <td>1.000000</td>\n",
       "      <td>1.000000</td>\n",
       "      <td>-0.150588</td>\n",
       "      <td>-0.255507</td>\n",
       "      <td>-0.296296</td>\n",
       "      <td>NaN</td>\n",
       "    </tr>\n",
       "    <tr>\n",
       "      <th>chydorid_count</th>\n",
       "      <td>-0.176395</td>\n",
       "      <td>0.222597</td>\n",
       "      <td>-0.135882</td>\n",
       "      <td>0.532639</td>\n",
       "      <td>0.909646</td>\n",
       "      <td>0.700944</td>\n",
       "      <td>-0.150588</td>\n",
       "      <td>1.000000</td>\n",
       "      <td>0.366175</td>\n",
       "      <td>-0.342450</td>\n",
       "      <td>0.940261</td>\n",
       "    </tr>\n",
       "    <tr>\n",
       "      <th>chironomid_pupae_count</th>\n",
       "      <td>-0.097714</td>\n",
       "      <td>-0.045504</td>\n",
       "      <td>-0.046948</td>\n",
       "      <td>-0.162415</td>\n",
       "      <td>-0.125192</td>\n",
       "      <td>-0.465690</td>\n",
       "      <td>-0.255507</td>\n",
       "      <td>0.366175</td>\n",
       "      <td>1.000000</td>\n",
       "      <td>0.388206</td>\n",
       "      <td>-0.135375</td>\n",
       "    </tr>\n",
       "    <tr>\n",
       "      <th>adult_chrironomid_count</th>\n",
       "      <td>-0.105508</td>\n",
       "      <td>-0.108372</td>\n",
       "      <td>-0.212885</td>\n",
       "      <td>-0.320767</td>\n",
       "      <td>-0.024679</td>\n",
       "      <td>NaN</td>\n",
       "      <td>-0.296296</td>\n",
       "      <td>-0.342450</td>\n",
       "      <td>0.388206</td>\n",
       "      <td>1.000000</td>\n",
       "      <td>NaN</td>\n",
       "    </tr>\n",
       "    <tr>\n",
       "      <th>polyphemus_count</th>\n",
       "      <td>0.064602</td>\n",
       "      <td>-0.015808</td>\n",
       "      <td>0.170912</td>\n",
       "      <td>-0.437650</td>\n",
       "      <td>0.483872</td>\n",
       "      <td>NaN</td>\n",
       "      <td>NaN</td>\n",
       "      <td>0.940261</td>\n",
       "      <td>-0.135375</td>\n",
       "      <td>NaN</td>\n",
       "      <td>1.000000</td>\n",
       "    </tr>\n",
       "  </tbody>\n",
       "</table>\n",
       "</div>"
      ],
      "text/plain": [
       "                             year  total_length_mm  calanoid_copepod_count  \\\n",
       "year                     1.000000        -0.508029                0.162089   \n",
       "total_length_mm         -0.508029         1.000000                0.330720   \n",
       "calanoid_copepod_count   0.162089         0.330720                1.000000   \n",
       "cyclopoid_copepod_count  0.191729         0.236226                0.254318   \n",
       "bosmina_count            0.104132         0.241801                0.233727   \n",
       "daphnia_count           -0.103776         0.572674                0.478068   \n",
       "chironomid_larvae_count  0.024218        -0.026778               -0.074665   \n",
       "chydorid_count          -0.176395         0.222597               -0.135882   \n",
       "chironomid_pupae_count  -0.097714        -0.045504               -0.046948   \n",
       "adult_chrironomid_count -0.105508        -0.108372               -0.212885   \n",
       "polyphemus_count         0.064602        -0.015808                0.170912   \n",
       "\n",
       "                         cyclopoid_copepod_count  bosmina_count  \\\n",
       "year                                    0.191729       0.104132   \n",
       "total_length_mm                         0.236226       0.241801   \n",
       "calanoid_copepod_count                  0.254318       0.233727   \n",
       "cyclopoid_copepod_count                 1.000000       0.455114   \n",
       "bosmina_count                           0.455114       1.000000   \n",
       "daphnia_count                           0.134718       0.243933   \n",
       "chironomid_larvae_count                -0.110684       0.004654   \n",
       "chydorid_count                          0.532639       0.909646   \n",
       "chironomid_pupae_count                 -0.162415      -0.125192   \n",
       "adult_chrironomid_count                -0.320767      -0.024679   \n",
       "polyphemus_count                       -0.437650       0.483872   \n",
       "\n",
       "                         daphnia_count  chironomid_larvae_count  \\\n",
       "year                         -0.103776                 0.024218   \n",
       "total_length_mm               0.572674                -0.026778   \n",
       "calanoid_copepod_count        0.478068                -0.074665   \n",
       "cyclopoid_copepod_count       0.134718                -0.110684   \n",
       "bosmina_count                 0.243933                 0.004654   \n",
       "daphnia_count                 1.000000                 1.000000   \n",
       "chironomid_larvae_count       1.000000                 1.000000   \n",
       "chydorid_count                0.700944                -0.150588   \n",
       "chironomid_pupae_count       -0.465690                -0.255507   \n",
       "adult_chrironomid_count            NaN                -0.296296   \n",
       "polyphemus_count                   NaN                      NaN   \n",
       "\n",
       "                         chydorid_count  chironomid_pupae_count  \\\n",
       "year                          -0.176395               -0.097714   \n",
       "total_length_mm                0.222597               -0.045504   \n",
       "calanoid_copepod_count        -0.135882               -0.046948   \n",
       "cyclopoid_copepod_count        0.532639               -0.162415   \n",
       "bosmina_count                  0.909646               -0.125192   \n",
       "daphnia_count                  0.700944               -0.465690   \n",
       "chironomid_larvae_count       -0.150588               -0.255507   \n",
       "chydorid_count                 1.000000                0.366175   \n",
       "chironomid_pupae_count         0.366175                1.000000   \n",
       "adult_chrironomid_count       -0.342450                0.388206   \n",
       "polyphemus_count               0.940261               -0.135375   \n",
       "\n",
       "                         adult_chrironomid_count  polyphemus_count  \n",
       "year                                   -0.105508          0.064602  \n",
       "total_length_mm                        -0.108372         -0.015808  \n",
       "calanoid_copepod_count                 -0.212885          0.170912  \n",
       "cyclopoid_copepod_count                -0.320767         -0.437650  \n",
       "bosmina_count                          -0.024679          0.483872  \n",
       "daphnia_count                                NaN               NaN  \n",
       "chironomid_larvae_count                -0.296296               NaN  \n",
       "chydorid_count                         -0.342450          0.940261  \n",
       "chironomid_pupae_count                  0.388206         -0.135375  \n",
       "adult_chrironomid_count                 1.000000               NaN  \n",
       "polyphemus_count                             NaN          1.000000  "
      ]
     },
     "execution_count": 125,
     "metadata": {},
     "output_type": "execute_result"
    }
   ],
   "source": [
    "abundance.corr()"
   ]
  },
  {
   "cell_type": "code",
   "execution_count": 126,
   "metadata": {
    "scrolled": true
   },
   "outputs": [
    {
     "data": {
      "text/html": [
       "<div>\n",
       "<style scoped>\n",
       "    .dataframe tbody tr th:only-of-type {\n",
       "        vertical-align: middle;\n",
       "    }\n",
       "\n",
       "    .dataframe tbody tr th {\n",
       "        vertical-align: top;\n",
       "    }\n",
       "\n",
       "    .dataframe thead th {\n",
       "        text-align: right;\n",
       "    }\n",
       "</style>\n",
       "<table border=\"1\" class=\"dataframe\">\n",
       "  <thead>\n",
       "    <tr style=\"text-align: right;\">\n",
       "      <th></th>\n",
       "      <th>year</th>\n",
       "      <th>total_length_mm</th>\n",
       "      <th>calanoid_copepod_count</th>\n",
       "      <th>cyclopoid_copepod_count</th>\n",
       "      <th>bosmina_count</th>\n",
       "      <th>daphnia_count</th>\n",
       "      <th>chironomid_larvae_count</th>\n",
       "      <th>chydorid_count</th>\n",
       "      <th>chironomid_pupae_count</th>\n",
       "      <th>adult_chrironomid_count</th>\n",
       "      <th>polyphemus_count</th>\n",
       "    </tr>\n",
       "  </thead>\n",
       "  <tbody>\n",
       "    <tr>\n",
       "      <th>year</th>\n",
       "      <td>2.878826</td>\n",
       "      <td>-9.943138</td>\n",
       "      <td>10.498403</td>\n",
       "      <td>18.105591</td>\n",
       "      <td>27.994167</td>\n",
       "      <td>-3.469345</td>\n",
       "      <td>0.163949</td>\n",
       "      <td>-3.749293</td>\n",
       "      <td>-1.261327</td>\n",
       "      <td>-0.265781</td>\n",
       "      <td>2.433333</td>\n",
       "    </tr>\n",
       "    <tr>\n",
       "      <th>total_length_mm</th>\n",
       "      <td>-9.943138</td>\n",
       "      <td>131.725547</td>\n",
       "      <td>131.593126</td>\n",
       "      <td>140.562596</td>\n",
       "      <td>442.270423</td>\n",
       "      <td>306.214030</td>\n",
       "      <td>-1.163462</td>\n",
       "      <td>30.492665</td>\n",
       "      <td>-3.183339</td>\n",
       "      <td>-2.043860</td>\n",
       "      <td>-5.393578</td>\n",
       "    </tr>\n",
       "    <tr>\n",
       "      <th>calanoid_copepod_count</th>\n",
       "      <td>10.498403</td>\n",
       "      <td>131.593126</td>\n",
       "      <td>1728.665022</td>\n",
       "      <td>174.884296</td>\n",
       "      <td>469.293826</td>\n",
       "      <td>43.985714</td>\n",
       "      <td>-2.258345</td>\n",
       "      <td>-9.000000</td>\n",
       "      <td>-14.606570</td>\n",
       "      <td>-24.944853</td>\n",
       "      <td>40.326923</td>\n",
       "    </tr>\n",
       "    <tr>\n",
       "      <th>cyclopoid_copepod_count</th>\n",
       "      <td>18.105591</td>\n",
       "      <td>140.562596</td>\n",
       "      <td>174.884296</td>\n",
       "      <td>3969.681064</td>\n",
       "      <td>2949.589394</td>\n",
       "      <td>258.535714</td>\n",
       "      <td>-12.421667</td>\n",
       "      <td>134.349850</td>\n",
       "      <td>-32.712215</td>\n",
       "      <td>-1.650000</td>\n",
       "      <td>-7.083333</td>\n",
       "    </tr>\n",
       "    <tr>\n",
       "      <th>bosmina_count</th>\n",
       "      <td>27.994167</td>\n",
       "      <td>442.270423</td>\n",
       "      <td>469.293826</td>\n",
       "      <td>2949.589394</td>\n",
       "      <td>25611.713588</td>\n",
       "      <td>527.662366</td>\n",
       "      <td>2.151478</td>\n",
       "      <td>357.148649</td>\n",
       "      <td>-51.832194</td>\n",
       "      <td>-0.053571</td>\n",
       "      <td>1122.170918</td>\n",
       "    </tr>\n",
       "    <tr>\n",
       "      <th>daphnia_count</th>\n",
       "      <td>-3.469345</td>\n",
       "      <td>306.214030</td>\n",
       "      <td>43.985714</td>\n",
       "      <td>258.535714</td>\n",
       "      <td>527.662366</td>\n",
       "      <td>2508.363636</td>\n",
       "      <td>1.500000</td>\n",
       "      <td>300.964286</td>\n",
       "      <td>-2.400000</td>\n",
       "      <td>NaN</td>\n",
       "      <td>NaN</td>\n",
       "    </tr>\n",
       "    <tr>\n",
       "      <th>chironomid_larvae_count</th>\n",
       "      <td>0.163949</td>\n",
       "      <td>-1.163462</td>\n",
       "      <td>-2.258345</td>\n",
       "      <td>-12.421667</td>\n",
       "      <td>2.151478</td>\n",
       "      <td>1.500000</td>\n",
       "      <td>23.354009</td>\n",
       "      <td>-1.605263</td>\n",
       "      <td>-5.915102</td>\n",
       "      <td>-0.380952</td>\n",
       "      <td>NaN</td>\n",
       "    </tr>\n",
       "    <tr>\n",
       "      <th>chydorid_count</th>\n",
       "      <td>-3.749293</td>\n",
       "      <td>30.492665</td>\n",
       "      <td>-9.000000</td>\n",
       "      <td>134.349850</td>\n",
       "      <td>357.148649</td>\n",
       "      <td>300.964286</td>\n",
       "      <td>-1.605263</td>\n",
       "      <td>206.263737</td>\n",
       "      <td>13.789641</td>\n",
       "      <td>-10.233333</td>\n",
       "      <td>100.095238</td>\n",
       "    </tr>\n",
       "    <tr>\n",
       "      <th>chironomid_pupae_count</th>\n",
       "      <td>-1.261327</td>\n",
       "      <td>-3.183339</td>\n",
       "      <td>-14.606570</td>\n",
       "      <td>-32.712215</td>\n",
       "      <td>-51.832194</td>\n",
       "      <td>-2.400000</td>\n",
       "      <td>-5.915102</td>\n",
       "      <td>13.789641</td>\n",
       "      <td>62.192641</td>\n",
       "      <td>10.033613</td>\n",
       "      <td>-6.298462</td>\n",
       "    </tr>\n",
       "    <tr>\n",
       "      <th>adult_chrironomid_count</th>\n",
       "      <td>-0.265781</td>\n",
       "      <td>-2.043860</td>\n",
       "      <td>-24.944853</td>\n",
       "      <td>-1.650000</td>\n",
       "      <td>-0.053571</td>\n",
       "      <td>NaN</td>\n",
       "      <td>-0.380952</td>\n",
       "      <td>-10.233333</td>\n",
       "      <td>10.033613</td>\n",
       "      <td>7.681063</td>\n",
       "      <td>0.000000</td>\n",
       "    </tr>\n",
       "    <tr>\n",
       "      <th>polyphemus_count</th>\n",
       "      <td>2.433333</td>\n",
       "      <td>-5.393578</td>\n",
       "      <td>40.326923</td>\n",
       "      <td>-7.083333</td>\n",
       "      <td>1122.170918</td>\n",
       "      <td>NaN</td>\n",
       "      <td>NaN</td>\n",
       "      <td>100.095238</td>\n",
       "      <td>-6.298462</td>\n",
       "      <td>0.000000</td>\n",
       "      <td>1166.900000</td>\n",
       "    </tr>\n",
       "  </tbody>\n",
       "</table>\n",
       "</div>"
      ],
      "text/plain": [
       "                              year  total_length_mm  calanoid_copepod_count  \\\n",
       "year                      2.878826        -9.943138               10.498403   \n",
       "total_length_mm          -9.943138       131.725547              131.593126   \n",
       "calanoid_copepod_count   10.498403       131.593126             1728.665022   \n",
       "cyclopoid_copepod_count  18.105591       140.562596              174.884296   \n",
       "bosmina_count            27.994167       442.270423              469.293826   \n",
       "daphnia_count            -3.469345       306.214030               43.985714   \n",
       "chironomid_larvae_count   0.163949        -1.163462               -2.258345   \n",
       "chydorid_count           -3.749293        30.492665               -9.000000   \n",
       "chironomid_pupae_count   -1.261327        -3.183339              -14.606570   \n",
       "adult_chrironomid_count  -0.265781        -2.043860              -24.944853   \n",
       "polyphemus_count          2.433333        -5.393578               40.326923   \n",
       "\n",
       "                         cyclopoid_copepod_count  bosmina_count  \\\n",
       "year                                   18.105591      27.994167   \n",
       "total_length_mm                       140.562596     442.270423   \n",
       "calanoid_copepod_count                174.884296     469.293826   \n",
       "cyclopoid_copepod_count              3969.681064    2949.589394   \n",
       "bosmina_count                        2949.589394   25611.713588   \n",
       "daphnia_count                         258.535714     527.662366   \n",
       "chironomid_larvae_count               -12.421667       2.151478   \n",
       "chydorid_count                        134.349850     357.148649   \n",
       "chironomid_pupae_count                -32.712215     -51.832194   \n",
       "adult_chrironomid_count                -1.650000      -0.053571   \n",
       "polyphemus_count                       -7.083333    1122.170918   \n",
       "\n",
       "                         daphnia_count  chironomid_larvae_count  \\\n",
       "year                         -3.469345                 0.163949   \n",
       "total_length_mm             306.214030                -1.163462   \n",
       "calanoid_copepod_count       43.985714                -2.258345   \n",
       "cyclopoid_copepod_count     258.535714               -12.421667   \n",
       "bosmina_count               527.662366                 2.151478   \n",
       "daphnia_count              2508.363636                 1.500000   \n",
       "chironomid_larvae_count       1.500000                23.354009   \n",
       "chydorid_count              300.964286                -1.605263   \n",
       "chironomid_pupae_count       -2.400000                -5.915102   \n",
       "adult_chrironomid_count            NaN                -0.380952   \n",
       "polyphemus_count                   NaN                      NaN   \n",
       "\n",
       "                         chydorid_count  chironomid_pupae_count  \\\n",
       "year                          -3.749293               -1.261327   \n",
       "total_length_mm               30.492665               -3.183339   \n",
       "calanoid_copepod_count        -9.000000              -14.606570   \n",
       "cyclopoid_copepod_count      134.349850              -32.712215   \n",
       "bosmina_count                357.148649              -51.832194   \n",
       "daphnia_count                300.964286               -2.400000   \n",
       "chironomid_larvae_count       -1.605263               -5.915102   \n",
       "chydorid_count               206.263737               13.789641   \n",
       "chironomid_pupae_count        13.789641               62.192641   \n",
       "adult_chrironomid_count      -10.233333               10.033613   \n",
       "polyphemus_count             100.095238               -6.298462   \n",
       "\n",
       "                         adult_chrironomid_count  polyphemus_count  \n",
       "year                                   -0.265781          2.433333  \n",
       "total_length_mm                        -2.043860         -5.393578  \n",
       "calanoid_copepod_count                -24.944853         40.326923  \n",
       "cyclopoid_copepod_count                -1.650000         -7.083333  \n",
       "bosmina_count                          -0.053571       1122.170918  \n",
       "daphnia_count                                NaN               NaN  \n",
       "chironomid_larvae_count                -0.380952               NaN  \n",
       "chydorid_count                        -10.233333        100.095238  \n",
       "chironomid_pupae_count                 10.033613         -6.298462  \n",
       "adult_chrironomid_count                 7.681063          0.000000  \n",
       "polyphemus_count                        0.000000       1166.900000  "
      ]
     },
     "execution_count": 126,
     "metadata": {},
     "output_type": "execute_result"
    }
   ],
   "source": [
    "abundance.cov()"
   ]
  },
  {
   "cell_type": "code",
   "execution_count": 128,
   "metadata": {},
   "outputs": [
    {
     "data": {
      "text/html": [
       "<div>\n",
       "<style scoped>\n",
       "    .dataframe tbody tr th:only-of-type {\n",
       "        vertical-align: middle;\n",
       "    }\n",
       "\n",
       "    .dataframe tbody tr th {\n",
       "        vertical-align: top;\n",
       "    }\n",
       "\n",
       "    .dataframe thead th {\n",
       "        text-align: right;\n",
       "    }\n",
       "</style>\n",
       "<table border=\"1\" class=\"dataframe\">\n",
       "  <thead>\n",
       "    <tr style=\"text-align: right;\">\n",
       "      <th></th>\n",
       "      <th>year</th>\n",
       "      <th>fish_id</th>\n",
       "      <th>calanoid_copepod_length</th>\n",
       "      <th>cyclopoid_copepod_length</th>\n",
       "      <th>bosmina_length</th>\n",
       "      <th>chironomid_larvae_length</th>\n",
       "      <th>chydorid_length</th>\n",
       "      <th>chironomid_pupae_length</th>\n",
       "      <th>polyphemus_length</th>\n",
       "    </tr>\n",
       "  </thead>\n",
       "  <tbody>\n",
       "    <tr>\n",
       "      <th>year</th>\n",
       "      <td>2.265040</td>\n",
       "      <td>183.695947</td>\n",
       "      <td>-0.191762</td>\n",
       "      <td>-0.004196</td>\n",
       "      <td>-0.008827</td>\n",
       "      <td>NaN</td>\n",
       "      <td>0.000000</td>\n",
       "      <td>0.00000</td>\n",
       "      <td>0.000000</td>\n",
       "    </tr>\n",
       "    <tr>\n",
       "      <th>fish_id</th>\n",
       "      <td>183.695947</td>\n",
       "      <td>39248.012452</td>\n",
       "      <td>-45.269676</td>\n",
       "      <td>-0.447986</td>\n",
       "      <td>-4.966738</td>\n",
       "      <td>NaN</td>\n",
       "      <td>0.010083</td>\n",
       "      <td>0.00000</td>\n",
       "      <td>0.000000</td>\n",
       "    </tr>\n",
       "    <tr>\n",
       "      <th>calanoid_copepod_length</th>\n",
       "      <td>-0.191762</td>\n",
       "      <td>-45.269676</td>\n",
       "      <td>0.105836</td>\n",
       "      <td>0.013901</td>\n",
       "      <td>0.003149</td>\n",
       "      <td>NaN</td>\n",
       "      <td>NaN</td>\n",
       "      <td>NaN</td>\n",
       "      <td>NaN</td>\n",
       "    </tr>\n",
       "    <tr>\n",
       "      <th>cyclopoid_copepod_length</th>\n",
       "      <td>-0.004196</td>\n",
       "      <td>-0.447986</td>\n",
       "      <td>0.013901</td>\n",
       "      <td>0.013989</td>\n",
       "      <td>-0.000447</td>\n",
       "      <td>NaN</td>\n",
       "      <td>NaN</td>\n",
       "      <td>NaN</td>\n",
       "      <td>NaN</td>\n",
       "    </tr>\n",
       "    <tr>\n",
       "      <th>bosmina_length</th>\n",
       "      <td>-0.008827</td>\n",
       "      <td>-4.966738</td>\n",
       "      <td>0.003149</td>\n",
       "      <td>-0.000447</td>\n",
       "      <td>0.006410</td>\n",
       "      <td>NaN</td>\n",
       "      <td>NaN</td>\n",
       "      <td>NaN</td>\n",
       "      <td>NaN</td>\n",
       "    </tr>\n",
       "    <tr>\n",
       "      <th>chironomid_larvae_length</th>\n",
       "      <td>NaN</td>\n",
       "      <td>NaN</td>\n",
       "      <td>NaN</td>\n",
       "      <td>NaN</td>\n",
       "      <td>NaN</td>\n",
       "      <td>NaN</td>\n",
       "      <td>NaN</td>\n",
       "      <td>NaN</td>\n",
       "      <td>NaN</td>\n",
       "    </tr>\n",
       "    <tr>\n",
       "      <th>chydorid_length</th>\n",
       "      <td>0.000000</td>\n",
       "      <td>0.010083</td>\n",
       "      <td>NaN</td>\n",
       "      <td>NaN</td>\n",
       "      <td>NaN</td>\n",
       "      <td>NaN</td>\n",
       "      <td>0.001556</td>\n",
       "      <td>NaN</td>\n",
       "      <td>NaN</td>\n",
       "    </tr>\n",
       "    <tr>\n",
       "      <th>chironomid_pupae_length</th>\n",
       "      <td>0.000000</td>\n",
       "      <td>0.000000</td>\n",
       "      <td>NaN</td>\n",
       "      <td>NaN</td>\n",
       "      <td>NaN</td>\n",
       "      <td>NaN</td>\n",
       "      <td>NaN</td>\n",
       "      <td>0.16245</td>\n",
       "      <td>NaN</td>\n",
       "    </tr>\n",
       "    <tr>\n",
       "      <th>polyphemus_length</th>\n",
       "      <td>0.000000</td>\n",
       "      <td>0.000000</td>\n",
       "      <td>NaN</td>\n",
       "      <td>NaN</td>\n",
       "      <td>NaN</td>\n",
       "      <td>NaN</td>\n",
       "      <td>NaN</td>\n",
       "      <td>NaN</td>\n",
       "      <td>0.002025</td>\n",
       "    </tr>\n",
       "  </tbody>\n",
       "</table>\n",
       "</div>"
      ],
      "text/plain": [
       "                                year       fish_id  calanoid_copepod_length  \\\n",
       "year                        2.265040    183.695947                -0.191762   \n",
       "fish_id                   183.695947  39248.012452               -45.269676   \n",
       "calanoid_copepod_length    -0.191762    -45.269676                 0.105836   \n",
       "cyclopoid_copepod_length   -0.004196     -0.447986                 0.013901   \n",
       "bosmina_length             -0.008827     -4.966738                 0.003149   \n",
       "chironomid_larvae_length         NaN           NaN                      NaN   \n",
       "chydorid_length             0.000000      0.010083                      NaN   \n",
       "chironomid_pupae_length     0.000000      0.000000                      NaN   \n",
       "polyphemus_length           0.000000      0.000000                      NaN   \n",
       "\n",
       "                          cyclopoid_copepod_length  bosmina_length  \\\n",
       "year                                     -0.004196       -0.008827   \n",
       "fish_id                                  -0.447986       -4.966738   \n",
       "calanoid_copepod_length                   0.013901        0.003149   \n",
       "cyclopoid_copepod_length                  0.013989       -0.000447   \n",
       "bosmina_length                           -0.000447        0.006410   \n",
       "chironomid_larvae_length                       NaN             NaN   \n",
       "chydorid_length                                NaN             NaN   \n",
       "chironomid_pupae_length                        NaN             NaN   \n",
       "polyphemus_length                              NaN             NaN   \n",
       "\n",
       "                          chironomid_larvae_length  chydorid_length  \\\n",
       "year                                           NaN         0.000000   \n",
       "fish_id                                        NaN         0.010083   \n",
       "calanoid_copepod_length                        NaN              NaN   \n",
       "cyclopoid_copepod_length                       NaN              NaN   \n",
       "bosmina_length                                 NaN              NaN   \n",
       "chironomid_larvae_length                       NaN              NaN   \n",
       "chydorid_length                                NaN         0.001556   \n",
       "chironomid_pupae_length                        NaN              NaN   \n",
       "polyphemus_length                              NaN              NaN   \n",
       "\n",
       "                          chironomid_pupae_length  polyphemus_length  \n",
       "year                                      0.00000           0.000000  \n",
       "fish_id                                   0.00000           0.000000  \n",
       "calanoid_copepod_length                       NaN                NaN  \n",
       "cyclopoid_copepod_length                      NaN                NaN  \n",
       "bosmina_length                                NaN                NaN  \n",
       "chironomid_larvae_length                      NaN                NaN  \n",
       "chydorid_length                               NaN                NaN  \n",
       "chironomid_pupae_length                   0.16245                NaN  \n",
       "polyphemus_length                             NaN           0.002025  "
      ]
     },
     "execution_count": 128,
     "metadata": {},
     "output_type": "execute_result"
    }
   ],
   "source": []
  },
  {
   "cell_type": "code",
   "execution_count": 135,
   "metadata": {},
   "outputs": [
    {
     "ename": "KeyError",
     "evalue": "('bosmina_count', '2014')",
     "output_type": "error",
     "traceback": [
      "\u001b[0;31m---------------------------------------------------------------------------\u001b[0m",
      "\u001b[0;31mKeyError\u001b[0m                                  Traceback (most recent call last)",
      "\u001b[0;32m~/opt/anaconda3/lib/python3.8/site-packages/pandas/core/indexes/base.py\u001b[0m in \u001b[0;36mget_loc\u001b[0;34m(self, key, method, tolerance)\u001b[0m\n\u001b[1;32m   2894\u001b[0m             \u001b[0;32mtry\u001b[0m\u001b[0;34m:\u001b[0m\u001b[0;34m\u001b[0m\u001b[0;34m\u001b[0m\u001b[0m\n\u001b[0;32m-> 2895\u001b[0;31m                 \u001b[0;32mreturn\u001b[0m \u001b[0mself\u001b[0m\u001b[0;34m.\u001b[0m\u001b[0m_engine\u001b[0m\u001b[0;34m.\u001b[0m\u001b[0mget_loc\u001b[0m\u001b[0;34m(\u001b[0m\u001b[0mcasted_key\u001b[0m\u001b[0;34m)\u001b[0m\u001b[0;34m\u001b[0m\u001b[0;34m\u001b[0m\u001b[0m\n\u001b[0m\u001b[1;32m   2896\u001b[0m             \u001b[0;32mexcept\u001b[0m \u001b[0mKeyError\u001b[0m \u001b[0;32mas\u001b[0m \u001b[0merr\u001b[0m\u001b[0;34m:\u001b[0m\u001b[0;34m\u001b[0m\u001b[0;34m\u001b[0m\u001b[0m\n",
      "\u001b[0;32mpandas/_libs/index.pyx\u001b[0m in \u001b[0;36mpandas._libs.index.IndexEngine.get_loc\u001b[0;34m()\u001b[0m\n",
      "\u001b[0;32mpandas/_libs/index.pyx\u001b[0m in \u001b[0;36mpandas._libs.index.IndexEngine.get_loc\u001b[0;34m()\u001b[0m\n",
      "\u001b[0;32mpandas/_libs/hashtable_class_helper.pxi\u001b[0m in \u001b[0;36mpandas._libs.hashtable.PyObjectHashTable.get_item\u001b[0;34m()\u001b[0m\n",
      "\u001b[0;32mpandas/_libs/hashtable_class_helper.pxi\u001b[0m in \u001b[0;36mpandas._libs.hashtable.PyObjectHashTable.get_item\u001b[0;34m()\u001b[0m\n",
      "\u001b[0;31mKeyError\u001b[0m: ('bosmina_count', '2014')",
      "\nThe above exception was the direct cause of the following exception:\n",
      "\u001b[0;31mKeyError\u001b[0m                                  Traceback (most recent call last)",
      "\u001b[0;32m<ipython-input-135-7d224e9a1009>\u001b[0m in \u001b[0;36m<module>\u001b[0;34m\u001b[0m\n\u001b[1;32m      1\u001b[0m \u001b[0;31m# Probability Mass Function: Bosmina Across Years\u001b[0m\u001b[0;34m\u001b[0m\u001b[0;34m\u001b[0m\u001b[0;34m\u001b[0m\u001b[0m\n\u001b[0;32m----> 2\u001b[0;31m \u001b[0mbosmina2014\u001b[0m \u001b[0;34m=\u001b[0m \u001b[0mabundance\u001b[0m\u001b[0;34m[\u001b[0m\u001b[0;34m'bosmina_count'\u001b[0m\u001b[0;34m,\u001b[0m\u001b[0;34m'2014'\u001b[0m\u001b[0;34m]\u001b[0m\u001b[0;34m\u001b[0m\u001b[0;34m\u001b[0m\u001b[0m\n\u001b[0m",
      "\u001b[0;32m~/opt/anaconda3/lib/python3.8/site-packages/pandas/core/frame.py\u001b[0m in \u001b[0;36m__getitem__\u001b[0;34m(self, key)\u001b[0m\n\u001b[1;32m   2900\u001b[0m             \u001b[0;32mif\u001b[0m \u001b[0mself\u001b[0m\u001b[0;34m.\u001b[0m\u001b[0mcolumns\u001b[0m\u001b[0;34m.\u001b[0m\u001b[0mnlevels\u001b[0m \u001b[0;34m>\u001b[0m \u001b[0;36m1\u001b[0m\u001b[0;34m:\u001b[0m\u001b[0;34m\u001b[0m\u001b[0;34m\u001b[0m\u001b[0m\n\u001b[1;32m   2901\u001b[0m                 \u001b[0;32mreturn\u001b[0m \u001b[0mself\u001b[0m\u001b[0;34m.\u001b[0m\u001b[0m_getitem_multilevel\u001b[0m\u001b[0;34m(\u001b[0m\u001b[0mkey\u001b[0m\u001b[0;34m)\u001b[0m\u001b[0;34m\u001b[0m\u001b[0;34m\u001b[0m\u001b[0m\n\u001b[0;32m-> 2902\u001b[0;31m             \u001b[0mindexer\u001b[0m \u001b[0;34m=\u001b[0m \u001b[0mself\u001b[0m\u001b[0;34m.\u001b[0m\u001b[0mcolumns\u001b[0m\u001b[0;34m.\u001b[0m\u001b[0mget_loc\u001b[0m\u001b[0;34m(\u001b[0m\u001b[0mkey\u001b[0m\u001b[0;34m)\u001b[0m\u001b[0;34m\u001b[0m\u001b[0;34m\u001b[0m\u001b[0m\n\u001b[0m\u001b[1;32m   2903\u001b[0m             \u001b[0;32mif\u001b[0m \u001b[0mis_integer\u001b[0m\u001b[0;34m(\u001b[0m\u001b[0mindexer\u001b[0m\u001b[0;34m)\u001b[0m\u001b[0;34m:\u001b[0m\u001b[0;34m\u001b[0m\u001b[0;34m\u001b[0m\u001b[0m\n\u001b[1;32m   2904\u001b[0m                 \u001b[0mindexer\u001b[0m \u001b[0;34m=\u001b[0m \u001b[0;34m[\u001b[0m\u001b[0mindexer\u001b[0m\u001b[0;34m]\u001b[0m\u001b[0;34m\u001b[0m\u001b[0;34m\u001b[0m\u001b[0m\n",
      "\u001b[0;32m~/opt/anaconda3/lib/python3.8/site-packages/pandas/core/indexes/base.py\u001b[0m in \u001b[0;36mget_loc\u001b[0;34m(self, key, method, tolerance)\u001b[0m\n\u001b[1;32m   2895\u001b[0m                 \u001b[0;32mreturn\u001b[0m \u001b[0mself\u001b[0m\u001b[0;34m.\u001b[0m\u001b[0m_engine\u001b[0m\u001b[0;34m.\u001b[0m\u001b[0mget_loc\u001b[0m\u001b[0;34m(\u001b[0m\u001b[0mcasted_key\u001b[0m\u001b[0;34m)\u001b[0m\u001b[0;34m\u001b[0m\u001b[0;34m\u001b[0m\u001b[0m\n\u001b[1;32m   2896\u001b[0m             \u001b[0;32mexcept\u001b[0m \u001b[0mKeyError\u001b[0m \u001b[0;32mas\u001b[0m \u001b[0merr\u001b[0m\u001b[0;34m:\u001b[0m\u001b[0;34m\u001b[0m\u001b[0;34m\u001b[0m\u001b[0m\n\u001b[0;32m-> 2897\u001b[0;31m                 \u001b[0;32mraise\u001b[0m \u001b[0mKeyError\u001b[0m\u001b[0;34m(\u001b[0m\u001b[0mkey\u001b[0m\u001b[0;34m)\u001b[0m \u001b[0;32mfrom\u001b[0m \u001b[0merr\u001b[0m\u001b[0;34m\u001b[0m\u001b[0;34m\u001b[0m\u001b[0m\n\u001b[0m\u001b[1;32m   2898\u001b[0m \u001b[0;34m\u001b[0m\u001b[0m\n\u001b[1;32m   2899\u001b[0m         \u001b[0;32mif\u001b[0m \u001b[0mtolerance\u001b[0m \u001b[0;32mis\u001b[0m \u001b[0;32mnot\u001b[0m \u001b[0;32mNone\u001b[0m\u001b[0;34m:\u001b[0m\u001b[0;34m\u001b[0m\u001b[0;34m\u001b[0m\u001b[0m\n",
      "\u001b[0;31mKeyError\u001b[0m: ('bosmina_count', '2014')"
     ]
    }
   ],
   "source": [
    "# Probability Mass Function: Bosmina Across Years\n",
    "bosmina2014 = abundance['bosmina_count','2014']"
   ]
  },
  {
   "cell_type": "code",
   "execution_count": 176,
   "metadata": {},
   "outputs": [],
   "source": [
    "# Filter data for PMF\n",
    "bosmina_df = abundance[['year', 'bosmina_count']]"
   ]
  },
  {
   "cell_type": "code",
   "execution_count": 177,
   "metadata": {},
   "outputs": [
    {
     "name": "stdout",
     "output_type": "stream",
     "text": [
      "0    False\n",
      "1    False\n",
      "2    False\n",
      "3    False\n",
      "4    False\n",
      "Name: year, dtype: bool\n"
     ]
    }
   ],
   "source": [
    "b2014 =  bosmina_df['year']==2014\n",
    "print(b2014.head())"
   ]
  },
  {
   "cell_type": "code",
   "execution_count": 178,
   "metadata": {},
   "outputs": [
    {
     "name": "stdout",
     "output_type": "stream",
     "text": [
      "(334, 2)\n"
     ]
    }
   ],
   "source": [
    "bos2014 = bosmina_df[b2014]\n",
    "print(bos2014.shape)"
   ]
  },
  {
   "cell_type": "code",
   "execution_count": 182,
   "metadata": {},
   "outputs": [],
   "source": [
    "bos2014 = bos2014.dropna()"
   ]
  },
  {
   "cell_type": "code",
   "execution_count": 184,
   "metadata": {},
   "outputs": [
    {
     "name": "stdout",
     "output_type": "stream",
     "text": [
      "(127, 2)\n"
     ]
    },
    {
     "data": {
      "text/html": [
       "<div>\n",
       "<style scoped>\n",
       "    .dataframe tbody tr th:only-of-type {\n",
       "        vertical-align: middle;\n",
       "    }\n",
       "\n",
       "    .dataframe tbody tr th {\n",
       "        vertical-align: top;\n",
       "    }\n",
       "\n",
       "    .dataframe thead th {\n",
       "        text-align: right;\n",
       "    }\n",
       "</style>\n",
       "<table border=\"1\" class=\"dataframe\">\n",
       "  <thead>\n",
       "    <tr style=\"text-align: right;\">\n",
       "      <th></th>\n",
       "      <th>year</th>\n",
       "      <th>bosmina_count</th>\n",
       "    </tr>\n",
       "  </thead>\n",
       "  <tbody>\n",
       "    <tr>\n",
       "      <th>711</th>\n",
       "      <td>2015</td>\n",
       "      <td>45.0</td>\n",
       "    </tr>\n",
       "    <tr>\n",
       "      <th>712</th>\n",
       "      <td>2015</td>\n",
       "      <td>60.0</td>\n",
       "    </tr>\n",
       "    <tr>\n",
       "      <th>713</th>\n",
       "      <td>2015</td>\n",
       "      <td>240.0</td>\n",
       "    </tr>\n",
       "    <tr>\n",
       "      <th>714</th>\n",
       "      <td>2015</td>\n",
       "      <td>120.0</td>\n",
       "    </tr>\n",
       "    <tr>\n",
       "      <th>715</th>\n",
       "      <td>2015</td>\n",
       "      <td>75.0</td>\n",
       "    </tr>\n",
       "    <tr>\n",
       "      <th>716</th>\n",
       "      <td>2015</td>\n",
       "      <td>105.0</td>\n",
       "    </tr>\n",
       "    <tr>\n",
       "      <th>717</th>\n",
       "      <td>2015</td>\n",
       "      <td>225.0</td>\n",
       "    </tr>\n",
       "    <tr>\n",
       "      <th>718</th>\n",
       "      <td>2015</td>\n",
       "      <td>30.0</td>\n",
       "    </tr>\n",
       "    <tr>\n",
       "      <th>719</th>\n",
       "      <td>2015</td>\n",
       "      <td>9.0</td>\n",
       "    </tr>\n",
       "    <tr>\n",
       "      <th>721</th>\n",
       "      <td>2015</td>\n",
       "      <td>150.0</td>\n",
       "    </tr>\n",
       "    <tr>\n",
       "      <th>722</th>\n",
       "      <td>2015</td>\n",
       "      <td>210.0</td>\n",
       "    </tr>\n",
       "    <tr>\n",
       "      <th>723</th>\n",
       "      <td>2015</td>\n",
       "      <td>7.0</td>\n",
       "    </tr>\n",
       "    <tr>\n",
       "      <th>726</th>\n",
       "      <td>2015</td>\n",
       "      <td>90.0</td>\n",
       "    </tr>\n",
       "    <tr>\n",
       "      <th>728</th>\n",
       "      <td>2015</td>\n",
       "      <td>11.0</td>\n",
       "    </tr>\n",
       "    <tr>\n",
       "      <th>729</th>\n",
       "      <td>2015</td>\n",
       "      <td>26.0</td>\n",
       "    </tr>\n",
       "    <tr>\n",
       "      <th>730</th>\n",
       "      <td>2015</td>\n",
       "      <td>60.0</td>\n",
       "    </tr>\n",
       "    <tr>\n",
       "      <th>731</th>\n",
       "      <td>2015</td>\n",
       "      <td>75.0</td>\n",
       "    </tr>\n",
       "    <tr>\n",
       "      <th>732</th>\n",
       "      <td>2015</td>\n",
       "      <td>75.0</td>\n",
       "    </tr>\n",
       "    <tr>\n",
       "      <th>733</th>\n",
       "      <td>2015</td>\n",
       "      <td>150.0</td>\n",
       "    </tr>\n",
       "    <tr>\n",
       "      <th>734</th>\n",
       "      <td>2015</td>\n",
       "      <td>15.0</td>\n",
       "    </tr>\n",
       "    <tr>\n",
       "      <th>735</th>\n",
       "      <td>2015</td>\n",
       "      <td>3.0</td>\n",
       "    </tr>\n",
       "    <tr>\n",
       "      <th>744</th>\n",
       "      <td>2015</td>\n",
       "      <td>1.0</td>\n",
       "    </tr>\n",
       "    <tr>\n",
       "      <th>745</th>\n",
       "      <td>2015</td>\n",
       "      <td>1.0</td>\n",
       "    </tr>\n",
       "    <tr>\n",
       "      <th>774</th>\n",
       "      <td>2015</td>\n",
       "      <td>1.0</td>\n",
       "    </tr>\n",
       "    <tr>\n",
       "      <th>825</th>\n",
       "      <td>2015</td>\n",
       "      <td>1.0</td>\n",
       "    </tr>\n",
       "    <tr>\n",
       "      <th>829</th>\n",
       "      <td>2015</td>\n",
       "      <td>3.0</td>\n",
       "    </tr>\n",
       "    <tr>\n",
       "      <th>830</th>\n",
       "      <td>2015</td>\n",
       "      <td>1.0</td>\n",
       "    </tr>\n",
       "    <tr>\n",
       "      <th>831</th>\n",
       "      <td>2015</td>\n",
       "      <td>1.0</td>\n",
       "    </tr>\n",
       "  </tbody>\n",
       "</table>\n",
       "</div>"
      ],
      "text/plain": [
       "     year  bosmina_count\n",
       "711  2015           45.0\n",
       "712  2015           60.0\n",
       "713  2015          240.0\n",
       "714  2015          120.0\n",
       "715  2015           75.0\n",
       "716  2015          105.0\n",
       "717  2015          225.0\n",
       "718  2015           30.0\n",
       "719  2015            9.0\n",
       "721  2015          150.0\n",
       "722  2015          210.0\n",
       "723  2015            7.0\n",
       "726  2015           90.0\n",
       "728  2015           11.0\n",
       "729  2015           26.0\n",
       "730  2015           60.0\n",
       "731  2015           75.0\n",
       "732  2015           75.0\n",
       "733  2015          150.0\n",
       "734  2015           15.0\n",
       "735  2015            3.0\n",
       "744  2015            1.0\n",
       "745  2015            1.0\n",
       "774  2015            1.0\n",
       "825  2015            1.0\n",
       "829  2015            3.0\n",
       "830  2015            1.0\n",
       "831  2015            1.0"
      ]
     },
     "execution_count": 184,
     "metadata": {},
     "output_type": "execute_result"
    }
   ],
   "source": [
    "b2015 =  bosmina_df['year']==2015\n",
    "bos2015 = bosmina_df[b2015]\n",
    "print(bos2015.shape)\n",
    "bos2015 = bos2015.dropna()"
   ]
  },
  {
   "cell_type": "code",
   "execution_count": 192,
   "metadata": {},
   "outputs": [
    {
     "name": "stdout",
     "output_type": "stream",
     "text": [
      "(334, 2)\n",
      "(127, 2)\n"
     ]
    }
   ],
   "source": [
    "length_df = abundance[['year', 'total_length_mm']]\n",
    "l2014 =  length_df['year']==2014\n",
    "l2014 = length_df[l2014]\n",
    "print(l2014.shape)\n",
    "l2014 = l2014.dropna()\n",
    "\n",
    "length_df = abundance[['year', 'total_length_mm']]\n",
    "l2015 =  length_df['year']==2015\n",
    "l2015 = length_df[l2015]\n",
    "print(l2015.shape)\n",
    "l2015 = l2015.dropna()"
   ]
  },
  {
   "cell_type": "code",
   "execution_count": 194,
   "metadata": {},
   "outputs": [],
   "source": [
    "# Probability Mass Function:\n",
    "first_pmf = thinkstats2.Pmf(bos2014['bosmina_count'], label='Bosmina 2014')\n",
    "other_pmf = thinkstats2.Pmf(bos2015['bosmina_count'], label='Bosmina 2015')\n",
    "\n",
    "\n",
    "a_pmf = thinkstats2.Pmf(l2014['total_length_mm'], label='Fish Length 2014')\n",
    "b_pmf = thinkstats2.Pmf(l2015['total_length_mm'], label='Fish Length 2015')"
   ]
  },
  {
   "cell_type": "code",
   "execution_count": 195,
   "metadata": {},
   "outputs": [
    {
     "data": {
      "image/png": "[encoded data removed]",
      "text/plain": [
       "<Figure size 432x288 with 1 Axes>"
      ]
     },
     "metadata": {
      "needs_background": "light"
     },
     "output_type": "display_data"
    }
   ],
   "source": [
    "# plot PMFs\n",
    "thinkplot.PrePlot(2)\n",
    "thinkplot.Hist(first_pmf, align='right')\n",
    "thinkplot.Hist(other_pmf, align='left')\n",
    "thinkplot.Config(xlabel='Bosmina Count', ylabel='Probability')"
   ]
  },
  {
   "cell_type": "code",
   "execution_count": 196,
   "metadata": {},
   "outputs": [
    {
     "data": {
      "image/png": "[encoded data removed]",
      "text/plain": [
       "<Figure size 432x288 with 1 Axes>"
      ]
     },
     "metadata": {
      "needs_background": "light"
     },
     "output_type": "display_data"
    }
   ],
   "source": [
    "thinkplot.PrePlot(2)\n",
    "thinkplot.Hist(a_pmf, align='right')\n",
    "thinkplot.Hist(b_pmf, align='left')\n",
    "thinkplot.Config(xlabel='Total Length mm', ylabel='Probability')"
   ]
  },
  {
   "cell_type": "code",
   "execution_count": 202,
   "metadata": {},
   "outputs": [
    {
     "data": {
      "image/png": "[encoded data removed]",
      "text/plain": [
       "<Figure size 432x288 with 1 Axes>"
      ]
     },
     "metadata": {
      "needs_background": "light"
     },
     "output_type": "display_data"
    }
   ],
   "source": [
    "# CDF\n",
    "cdf = thinkstats2.Cdf(abundance.total_length_mm, label='Fish Length')\n",
    "thinkplot.Cdf(cdf)\n",
    "thinkplot.Config(xlabel='Fish Total Length (mm)', ylabel='CDF', loc='upper left')"
   ]
  },
  {
   "cell_type": "code",
   "execution_count": 217,
   "metadata": {},
   "outputs": [
    {
     "data": {
      "text/plain": [
       "1.0"
      ]
     },
     "execution_count": 217,
     "metadata": {},
     "output_type": "execute_result"
    }
   ],
   "source": [
    "cdf.Prob(70)"
   ]
  },
  {
   "cell_type": "code",
   "execution_count": 206,
   "metadata": {},
   "outputs": [
    {
     "data": {
      "text/plain": [
       "11.5"
      ]
     },
     "execution_count": 206,
     "metadata": {},
     "output_type": "execute_result"
    }
   ],
   "source": [
    "min(abundance.total_length_mm)"
   ]
  },
  {
   "cell_type": "code",
   "execution_count": 227,
   "metadata": {},
   "outputs": [],
   "source": [
    "# Pareto distribution\n",
    "# Add sum to each column\n",
    "abundance.sum(axis=0) \n",
    "\n",
    "abundance2 = abundance.sum(axis=0) "
   ]
  },
  {
   "cell_type": "code",
   "execution_count": 229,
   "metadata": {},
   "outputs": [],
   "source": [
    "del abundance2['lake']\n",
    "del abundance2['location']\n",
    "del abundance2['gear']\n",
    "del abundance2['date']\n",
    "del abundance2['year']\n",
    "del abundance2['total_length_mm']"
   ]
  },
  {
   "cell_type": "code",
   "execution_count": 230,
   "metadata": {},
   "outputs": [
    {
     "data": {
      "text/plain": [
       "calanoid_copepod_count     13649\n",
       "cyclopoid_copepod_count     8846\n",
       "bosmina_count              22074\n",
       "daphnia_count               1360\n",
       "chironomid_larvae_count      301\n",
       "chydorid_count               617\n",
       "chironomid_pupae_count      2954\n",
       "adult_chrironomid_count      105\n",
       "polyphemus_count            1586\n",
       "dtype: object"
      ]
     },
     "execution_count": 230,
     "metadata": {},
     "output_type": "execute_result"
    }
   ],
   "source": [
    "abundance2"
   ]
  },
  {
   "cell_type": "code",
   "execution_count": 232,
   "metadata": {},
   "outputs": [],
   "source": [
    "data = [['calanoid_copepod_count', 13649], ['cyclopoid_copepod_count', 8846], ['bosmina_count ', 22074], \n",
    "        ['daphnia_count', 1360], ['chironomid_larvae_count', 301], ['chydorid_count ', 617],\n",
    "        ['chironomid_pupae_count', 2954], ['adult_chrironomid_count', 105], ['polyphemus_count ', 1586]]\n",
    "  \n",
    "# Create DataFrame \n",
    "df = pd.DataFrame(data, columns = ['Prey', 'Count']) "
   ]
  },
  {
   "cell_type": "code",
   "execution_count": 1,
   "metadata": {},
   "outputs": [],
   "source": [
    "# Regression analysis\n",
    "import scipy.stats"
   ]
  },
  {
   "cell_type": "code",
   "execution_count": 9,
   "metadata": {},
   "outputs": [
    {
     "data": {
      "text/html": [
       "<table class=\"simpletable\">\n",
       "<caption>OLS Regression Results</caption>\n",
       "<tr>\n",
       "  <th>Dep. Variable:</th>      <td>bosmina_count</td>  <th>  R-squared:         </th> <td>   0.058</td>\n",
       "</tr>\n",
       "<tr>\n",
       "  <th>Model:</th>                   <td>OLS</td>       <th>  Adj. R-squared:    </th> <td>   0.055</td>\n",
       "</tr>\n",
       "<tr>\n",
       "  <th>Method:</th>             <td>Least Squares</td>  <th>  F-statistic:       </th> <td>   18.75</td>\n",
       "</tr>\n",
       "<tr>\n",
       "  <th>Date:</th>             <td>Sat, 06 Mar 2021</td> <th>  Prob (F-statistic):</th> <td>2.03e-05</td>\n",
       "</tr>\n",
       "<tr>\n",
       "  <th>Time:</th>                 <td>19:13:17</td>     <th>  Log-Likelihood:    </th> <td> -1970.3</td>\n",
       "</tr>\n",
       "<tr>\n",
       "  <th>No. Observations:</th>      <td>   304</td>      <th>  AIC:               </th> <td>   3945.</td>\n",
       "</tr>\n",
       "<tr>\n",
       "  <th>Df Residuals:</th>          <td>   302</td>      <th>  BIC:               </th> <td>   3952.</td>\n",
       "</tr>\n",
       "<tr>\n",
       "  <th>Df Model:</th>              <td>     1</td>      <th>                     </th>     <td> </td>   \n",
       "</tr>\n",
       "<tr>\n",
       "  <th>Covariance Type:</th>      <td>nonrobust</td>    <th>                     </th>     <td> </td>   \n",
       "</tr>\n",
       "</table>\n",
       "<table class=\"simpletable\">\n",
       "<tr>\n",
       "         <td></td>            <th>coef</th>     <th>std err</th>      <th>t</th>      <th>P>|t|</th>  <th>[0.025</th>    <th>0.975]</th>  \n",
       "</tr>\n",
       "<tr>\n",
       "  <th>Intercept</th>       <td>  -58.7832</td> <td>   31.638</td> <td>   -1.858</td> <td> 0.064</td> <td> -121.042</td> <td>    3.475</td>\n",
       "</tr>\n",
       "<tr>\n",
       "  <th>total_length_mm</th> <td>    3.5144</td> <td>    0.812</td> <td>    4.331</td> <td> 0.000</td> <td>    1.917</td> <td>    5.111</td>\n",
       "</tr>\n",
       "</table>\n",
       "<table class=\"simpletable\">\n",
       "<tr>\n",
       "  <th>Omnibus:</th>       <td>355.014</td> <th>  Durbin-Watson:     </th> <td>   1.071</td> \n",
       "</tr>\n",
       "<tr>\n",
       "  <th>Prob(Omnibus):</th> <td> 0.000</td>  <th>  Jarque-Bera (JB):  </th> <td>17446.021</td>\n",
       "</tr>\n",
       "<tr>\n",
       "  <th>Skew:</th>          <td> 5.225</td>  <th>  Prob(JB):          </th> <td>    0.00</td> \n",
       "</tr>\n",
       "<tr>\n",
       "  <th>Kurtosis:</th>      <td>38.611</td>  <th>  Cond. No.          </th> <td>    136.</td> \n",
       "</tr>\n",
       "</table><br/><br/>Notes:<br/>[1] Standard Errors assume that the covariance matrix of the errors is correctly specified."
      ],
      "text/plain": [
       "<class 'statsmodels.iolib.summary.Summary'>\n",
       "\"\"\"\n",
       "                            OLS Regression Results                            \n",
       "==============================================================================\n",
       "Dep. Variable:          bosmina_count   R-squared:                       0.058\n",
       "Model:                            OLS   Adj. R-squared:                  0.055\n",
       "Method:                 Least Squares   F-statistic:                     18.75\n",
       "Date:                Sat, 06 Mar 2021   Prob (F-statistic):           2.03e-05\n",
       "Time:                        19:13:17   Log-Likelihood:                -1970.3\n",
       "No. Observations:                 304   AIC:                             3945.\n",
       "Df Residuals:                     302   BIC:                             3952.\n",
       "Df Model:                           1                                         \n",
       "Covariance Type:            nonrobust                                         \n",
       "===================================================================================\n",
       "                      coef    std err          t      P>|t|      [0.025      0.975]\n",
       "-----------------------------------------------------------------------------------\n",
       "Intercept         -58.7832     31.638     -1.858      0.064    -121.042       3.475\n",
       "total_length_mm     3.5144      0.812      4.331      0.000       1.917       5.111\n",
       "==============================================================================\n",
       "Omnibus:                      355.014   Durbin-Watson:                   1.071\n",
       "Prob(Omnibus):                  0.000   Jarque-Bera (JB):            17446.021\n",
       "Skew:                           5.225   Prob(JB):                         0.00\n",
       "Kurtosis:                      38.611   Cond. No.                         136.\n",
       "==============================================================================\n",
       "\n",
       "Notes:\n",
       "[1] Standard Errors assume that the covariance matrix of the errors is correctly specified.\n",
       "\"\"\""
      ]
     },
     "execution_count": 9,
     "metadata": {},
     "output_type": "execute_result"
    }
   ],
   "source": [
    "import statsmodels.formula.api as smf\n",
    "model = smf.ols('bosmina_count ~ total_length_mm', data = abundance)\n",
    "results = model.fit()\n",
    "results.summary()"
   ]
  },
  {
   "cell_type": "code",
   "execution_count": null,
   "metadata": {},
   "outputs": [],
   "source": []
  }
 ],
 "metadata": {
  "kernelspec": {
   "display_name": "Python 3",
   "language": "python",
   "name": "python3"
  },
  "language_info": {
   "codemirror_mode": {
    "name": "ipython",
    "version": 3
   },
   "file_extension": ".py",
   "mimetype": "text/x-python",
   "name": "python",
   "nbconvert_exporter": "python",
   "pygments_lexer": "ipython3",
   "version": "3.8.2"
  }
 },
 "nbformat": 4,
 "nbformat_minor": 4
}
