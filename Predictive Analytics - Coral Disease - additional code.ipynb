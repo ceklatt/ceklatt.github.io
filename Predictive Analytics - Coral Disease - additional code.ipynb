{
 "cells": [
  {
   "cell_type": "code",
   "execution_count": 1,
   "id": "precise-pontiac",
   "metadata": {},
   "outputs": [],
   "source": [
    "import pandas as pd\n",
    "import numpy as np"
   ]
  },
  {
   "cell_type": "code",
   "execution_count": 2,
   "id": "turkish-understanding",
   "metadata": {},
   "outputs": [],
   "source": [
    "df = pd.read_csv('coral2013.csv')"
   ]
  },
  {
   "cell_type": "code",
   "execution_count": 3,
   "id": "planned-details",
   "metadata": {},
   "outputs": [
    {
     "data": {
      "text/html": [
       "<div>\n",
       "<style scoped>\n",
       "    .dataframe tbody tr th:only-of-type {\n",
       "        vertical-align: middle;\n",
       "    }\n",
       "\n",
       "    .dataframe tbody tr th {\n",
       "        vertical-align: top;\n",
       "    }\n",
       "\n",
       "    .dataframe thead th {\n",
       "        text-align: right;\n",
       "    }\n",
       "</style>\n",
       "<table border=\"1\" class=\"dataframe\">\n",
       "  <thead>\n",
       "    <tr style=\"text-align: right;\">\n",
       "      <th></th>\n",
       "      <th>MISSIONID</th>\n",
       "      <th>REGION_NAME</th>\n",
       "      <th>ISLAND</th>\n",
       "      <th>SITE</th>\n",
       "      <th>LATITUDE</th>\n",
       "      <th>LONGITUDE</th>\n",
       "      <th>REEF_ZONE</th>\n",
       "      <th>EXCLUDE_FLAG</th>\n",
       "      <th>SITEVISITID</th>\n",
       "      <th>DATE_</th>\n",
       "      <th>...</th>\n",
       "      <th>SEVERITY</th>\n",
       "      <th>TAXONNAME</th>\n",
       "      <th>PHYLUM</th>\n",
       "      <th>CLASS</th>\n",
       "      <th>S_ORDER</th>\n",
       "      <th>FAMILY</th>\n",
       "      <th>GENUS</th>\n",
       "      <th>SCIENTIFIC_NAME</th>\n",
       "      <th>RANK</th>\n",
       "      <th>APHIAID</th>\n",
       "    </tr>\n",
       "  </thead>\n",
       "  <tbody>\n",
       "    <tr>\n",
       "      <th>0</th>\n",
       "      <td>FAGAALU3</td>\n",
       "      <td>American Samoa</td>\n",
       "      <td>Tutuila</td>\n",
       "      <td>TUT-936</td>\n",
       "      <td>-14.291431</td>\n",
       "      <td>-170.673380</td>\n",
       "      <td>Forereef</td>\n",
       "      <td>-1</td>\n",
       "      <td>5653</td>\n",
       "      <td>1-Apr-13</td>\n",
       "      <td>...</td>\n",
       "      <td>NaN</td>\n",
       "      <td>Favia matthaii</td>\n",
       "      <td>Cnidaria</td>\n",
       "      <td>Anthozoa</td>\n",
       "      <td>Scleractinia</td>\n",
       "      <td>Faviidae</td>\n",
       "      <td>Favia</td>\n",
       "      <td>Favia matthaii</td>\n",
       "      <td>Species</td>\n",
       "      <td>207437.0</td>\n",
       "    </tr>\n",
       "    <tr>\n",
       "      <th>1</th>\n",
       "      <td>FAGAALU3</td>\n",
       "      <td>American Samoa</td>\n",
       "      <td>Tutuila</td>\n",
       "      <td>TUT-936</td>\n",
       "      <td>-14.291431</td>\n",
       "      <td>-170.673380</td>\n",
       "      <td>Forereef</td>\n",
       "      <td>-1</td>\n",
       "      <td>5653</td>\n",
       "      <td>1-Apr-13</td>\n",
       "      <td>...</td>\n",
       "      <td>NaN</td>\n",
       "      <td>Favia matthaii</td>\n",
       "      <td>Cnidaria</td>\n",
       "      <td>Anthozoa</td>\n",
       "      <td>Scleractinia</td>\n",
       "      <td>Faviidae</td>\n",
       "      <td>Favia</td>\n",
       "      <td>Favia matthaii</td>\n",
       "      <td>Species</td>\n",
       "      <td>207437.0</td>\n",
       "    </tr>\n",
       "    <tr>\n",
       "      <th>2</th>\n",
       "      <td>FAGAALU3</td>\n",
       "      <td>American Samoa</td>\n",
       "      <td>Tutuila</td>\n",
       "      <td>TUT-936</td>\n",
       "      <td>-14.291431</td>\n",
       "      <td>-170.673380</td>\n",
       "      <td>Forereef</td>\n",
       "      <td>-1</td>\n",
       "      <td>5653</td>\n",
       "      <td>1-Apr-13</td>\n",
       "      <td>...</td>\n",
       "      <td>NaN</td>\n",
       "      <td>Favia matthaii</td>\n",
       "      <td>Cnidaria</td>\n",
       "      <td>Anthozoa</td>\n",
       "      <td>Scleractinia</td>\n",
       "      <td>Faviidae</td>\n",
       "      <td>Favia</td>\n",
       "      <td>Favia matthaii</td>\n",
       "      <td>Species</td>\n",
       "      <td>207437.0</td>\n",
       "    </tr>\n",
       "    <tr>\n",
       "      <th>3</th>\n",
       "      <td>FAGAALU3</td>\n",
       "      <td>American Samoa</td>\n",
       "      <td>Tutuila</td>\n",
       "      <td>TUT-936</td>\n",
       "      <td>-14.291431</td>\n",
       "      <td>-170.673380</td>\n",
       "      <td>Forereef</td>\n",
       "      <td>-1</td>\n",
       "      <td>5653</td>\n",
       "      <td>1-Apr-13</td>\n",
       "      <td>...</td>\n",
       "      <td>NaN</td>\n",
       "      <td>Favia matthaii</td>\n",
       "      <td>Cnidaria</td>\n",
       "      <td>Anthozoa</td>\n",
       "      <td>Scleractinia</td>\n",
       "      <td>Faviidae</td>\n",
       "      <td>Favia</td>\n",
       "      <td>Favia matthaii</td>\n",
       "      <td>Species</td>\n",
       "      <td>207437.0</td>\n",
       "    </tr>\n",
       "    <tr>\n",
       "      <th>4</th>\n",
       "      <td>FAGAALU3</td>\n",
       "      <td>American Samoa</td>\n",
       "      <td>Tutuila</td>\n",
       "      <td>TUT-955</td>\n",
       "      <td>-14.290166</td>\n",
       "      <td>-170.676753</td>\n",
       "      <td>Forereef</td>\n",
       "      <td>-1</td>\n",
       "      <td>5670</td>\n",
       "      <td>10-Apr-13</td>\n",
       "      <td>...</td>\n",
       "      <td>NaN</td>\n",
       "      <td>Favia matthaii</td>\n",
       "      <td>Cnidaria</td>\n",
       "      <td>Anthozoa</td>\n",
       "      <td>Scleractinia</td>\n",
       "      <td>Faviidae</td>\n",
       "      <td>Favia</td>\n",
       "      <td>Favia matthaii</td>\n",
       "      <td>Species</td>\n",
       "      <td>207437.0</td>\n",
       "    </tr>\n",
       "  </tbody>\n",
       "</table>\n",
       "<p>5 rows × 40 columns</p>\n",
       "</div>"
      ],
      "text/plain": [
       "  MISSIONID     REGION_NAME   ISLAND     SITE   LATITUDE   LONGITUDE  \\\n",
       "0  FAGAALU3  American Samoa  Tutuila  TUT-936 -14.291431 -170.673380   \n",
       "1  FAGAALU3  American Samoa  Tutuila  TUT-936 -14.291431 -170.673380   \n",
       "2  FAGAALU3  American Samoa  Tutuila  TUT-936 -14.291431 -170.673380   \n",
       "3  FAGAALU3  American Samoa  Tutuila  TUT-936 -14.291431 -170.673380   \n",
       "4  FAGAALU3  American Samoa  Tutuila  TUT-955 -14.290166 -170.676753   \n",
       "\n",
       "  REEF_ZONE  EXCLUDE_FLAG  SITEVISITID      DATE_  ...  SEVERITY  \\\n",
       "0  Forereef            -1         5653   1-Apr-13  ...       NaN   \n",
       "1  Forereef            -1         5653   1-Apr-13  ...       NaN   \n",
       "2  Forereef            -1         5653   1-Apr-13  ...       NaN   \n",
       "3  Forereef            -1         5653   1-Apr-13  ...       NaN   \n",
       "4  Forereef            -1         5670  10-Apr-13  ...       NaN   \n",
       "\n",
       "        TAXONNAME    PHYLUM     CLASS       S_ORDER    FAMILY  GENUS  \\\n",
       "0  Favia matthaii  Cnidaria  Anthozoa  Scleractinia  Faviidae  Favia   \n",
       "1  Favia matthaii  Cnidaria  Anthozoa  Scleractinia  Faviidae  Favia   \n",
       "2  Favia matthaii  Cnidaria  Anthozoa  Scleractinia  Faviidae  Favia   \n",
       "3  Favia matthaii  Cnidaria  Anthozoa  Scleractinia  Faviidae  Favia   \n",
       "4  Favia matthaii  Cnidaria  Anthozoa  Scleractinia  Faviidae  Favia   \n",
       "\n",
       "   SCIENTIFIC_NAME     RANK   APHIAID  \n",
       "0   Favia matthaii  Species  207437.0  \n",
       "1   Favia matthaii  Species  207437.0  \n",
       "2   Favia matthaii  Species  207437.0  \n",
       "3   Favia matthaii  Species  207437.0  \n",
       "4   Favia matthaii  Species  207437.0  \n",
       "\n",
       "[5 rows x 40 columns]"
      ]
     },
     "execution_count": 3,
     "metadata": {},
     "output_type": "execute_result"
    }
   ],
   "source": [
    "df.head()"
   ]
  },
  {
   "cell_type": "code",
   "execution_count": 4,
   "id": "fossil-enemy",
   "metadata": {},
   "outputs": [
    {
     "data": {
      "text/plain": [
       "Porites           3537\n",
       "Pavona            2363\n",
       "Montipora         2226\n",
       "Rhodactis         1717\n",
       "Sinularia          923\n",
       "Cladiella          855\n",
       "Pocillopora        841\n",
       "Acropora           781\n",
       "Psammocora         351\n",
       "Leptastrea         157\n",
       "Cyphastrea         153\n",
       "Fungia             126\n",
       "Leptoseris         122\n",
       "Millepora           85\n",
       "Galaxea             62\n",
       "Aiptasia            55\n",
       "Montastraea         55\n",
       "Mycedium            47\n",
       "Lobophytum          47\n",
       "Favia               36\n",
       "Palythoa            21\n",
       "Lobophyllia         20\n",
       "Sarcophyton         19\n",
       "Astreopora          13\n",
       "Echinopora          13\n",
       "Favites             10\n",
       "Stylaster            9\n",
       "Leptoria             7\n",
       "Goniastrea           6\n",
       "Coscinaraea          6\n",
       "Protopalythoa        6\n",
       "Diploastrea          5\n",
       "Entacmaea            5\n",
       "Oxypora              5\n",
       "Hydnophora           4\n",
       "Platygyra            3\n",
       "Alveopora            2\n",
       "Gardineroseris       2\n",
       "Merulina             2\n",
       "Zoanthus             1\n",
       "Acanthastrea         1\n",
       "Isopora              1\n",
       "Pachyseris           1\n",
       "Cycloseris           1\n",
       "Stylocoeniella       1\n",
       "Name: GENUS, dtype: int64"
      ]
     },
     "execution_count": 4,
     "metadata": {},
     "output_type": "execute_result"
    }
   ],
   "source": [
    "df['GENUS'].value_counts()"
   ]
  },
  {
   "cell_type": "code",
   "execution_count": 5,
   "id": "latter-outdoors",
   "metadata": {},
   "outputs": [
    {
     "data": {
      "text/plain": [
       "No Disease                             14391\n",
       "Environmental / Thermal Bleaching        140\n",
       "Predation                                 96\n",
       "Algal Infection                           58\n",
       "Coralline Fungal Disease                  15\n",
       "Coralline White Band Syndrome             11\n",
       "Cyanophyte Infection                       9\n",
       "Coralline Lethal Orange Disease            6\n",
       "Skeletal Growth Anomalies                  5\n",
       "Other                                      3\n",
       "Sub-acute Tissue Loss                      3\n",
       "Tube Worm Infestation                      3\n",
       "Barnacle Infestation                       1\n",
       "Discolorations other than Bleaching        1\n",
       "Name: COND_DESCRIPTION, dtype: int64"
      ]
     },
     "execution_count": 5,
     "metadata": {},
     "output_type": "execute_result"
    }
   ],
   "source": [
    "df['COND_DESCRIPTION'].value_counts()"
   ]
  },
  {
   "cell_type": "code",
   "execution_count": 6,
   "id": "invalid-burner",
   "metadata": {},
   "outputs": [
    {
     "data": {
      "text/plain": [
       "0.0     12696\n",
       "10.0      374\n",
       "20.0      254\n",
       "50.0      218\n",
       "40.0      198\n",
       "5.0       175\n",
       "30.0      166\n",
       "60.0      165\n",
       "80.0      109\n",
       "70.0      105\n",
       "25.0       92\n",
       "90.0       86\n",
       "95.0       29\n",
       "15.0       16\n",
       "2.0        14\n",
       "75.0       13\n",
       "35.0       10\n",
       "1.0         6\n",
       "45.0        6\n",
       "85.0        5\n",
       "65.0        3\n",
       "99.0        1\n",
       "98.0        1\n",
       "Name: OLDDEAD, dtype: int64"
      ]
     },
     "execution_count": 6,
     "metadata": {},
     "output_type": "execute_result"
    }
   ],
   "source": [
    "df['OLDDEAD'].value_counts()"
   ]
  },
  {
   "cell_type": "code",
   "execution_count": 8,
   "id": "turkish-yugoslavia",
   "metadata": {},
   "outputs": [
    {
     "data": {
      "text/plain": [
       "0.0      14434\n",
       "5.0         94\n",
       "10.0        73\n",
       "1.0         33\n",
       "2.0         25\n",
       "20.0        24\n",
       "30.0        14\n",
       "50.0        13\n",
       "15.0         9\n",
       "40.0         8\n",
       "100.0        5\n",
       "90.0         4\n",
       "60.0         2\n",
       "70.0         2\n",
       "25.0         1\n",
       "35.0         1\n",
       "Name: RECENTDEAD, dtype: int64"
      ]
     },
     "execution_count": 8,
     "metadata": {},
     "output_type": "execute_result"
    }
   ],
   "source": [
    "df['RECENTDEAD'].value_counts()"
   ]
  },
  {
   "cell_type": "code",
   "execution_count": 11,
   "id": "immediate-anniversary",
   "metadata": {},
   "outputs": [],
   "source": [
    "df2015 = pd.read_csv('V0_CORAL_OBS_E_FAGAALU_2015.csv')"
   ]
  },
  {
   "cell_type": "code",
   "execution_count": 12,
   "id": "blond-brave",
   "metadata": {},
   "outputs": [
    {
     "data": {
      "text/plain": [
       "No Disease                             2826\n",
       "Environmental / Thermal Bleaching        12\n",
       "Cyanophyte Infection                      9\n",
       "Tube Worm Infestation                     7\n",
       "Barnacle Infestation                      4\n",
       "Coralline White Band Syndrome             2\n",
       "Pigmentation Response                     2\n",
       "Discolorations other than Bleaching       1\n",
       "Algal Infection                           1\n",
       "Skeletal Growth Anomalies                 1\n",
       "Coralline Lethal Orange Disease           1\n",
       "Patchy Bleaching                          1\n",
       "Alcyonarian Necrotizing Disease           1\n",
       "Name: COND_DESCRIPTION, dtype: int64"
      ]
     },
     "execution_count": 12,
     "metadata": {},
     "output_type": "execute_result"
    }
   ],
   "source": [
    "df2015['COND_DESCRIPTION'].value_counts()"
   ]
  },
  {
   "cell_type": "code",
   "execution_count": 13,
   "id": "quality-promotion",
   "metadata": {},
   "outputs": [],
   "source": [
    "samoa = pd.read_csv('SAMOA.csv')"
   ]
  },
  {
   "cell_type": "code",
   "execution_count": 14,
   "id": "stainless-plymouth",
   "metadata": {},
   "outputs": [
    {
     "data": {
      "text/plain": [
       "PRED    287\n",
       "UNKN     44\n",
       "DZGN     24\n",
       "DAMG     16\n",
       "OVRG      4\n",
       "Name: recent_general_cause_code_1, dtype: int64"
      ]
     },
     "execution_count": 14,
     "metadata": {},
     "output_type": "execute_result"
    }
   ],
   "source": [
    "samoa['recent_general_cause_code_1'].value_counts()"
   ]
  },
  {
   "cell_type": "code",
   "execution_count": 15,
   "id": "retired-miracle",
   "metadata": {},
   "outputs": [
    {
     "data": {
      "text/plain": [
       "PRED    5\n",
       "OVRG    2\n",
       "Name: recent_general_cause_code_2, dtype: int64"
      ]
     },
     "execution_count": 15,
     "metadata": {},
     "output_type": "execute_result"
    }
   ],
   "source": [
    "samoa['recent_general_cause_code_2'].value_counts()"
   ]
  },
  {
   "cell_type": "code",
   "execution_count": 16,
   "id": "entertaining-chinese",
   "metadata": {},
   "outputs": [
    {
     "data": {
      "text/plain": [
       "Series([], Name: recent_general_cause_code_3, dtype: int64)"
      ]
     },
     "execution_count": 16,
     "metadata": {},
     "output_type": "execute_result"
    }
   ],
   "source": [
    "samoa['recent_general_cause_code_3'].value_counts()"
   ]
  },
  {
   "cell_type": "code",
   "execution_count": 17,
   "id": "foreign-baltimore",
   "metadata": {},
   "outputs": [
    {
     "data": {
      "text/plain": [
       "0.0     2809\n",
       "10.0     549\n",
       "5.0      429\n",
       "20.0     248\n",
       "15.0     159\n",
       "50.0     126\n",
       "3.0      116\n",
       "30.0     110\n",
       "25.0      85\n",
       "40.0      83\n",
       "2.0       71\n",
       "1.0       68\n",
       "60.0      67\n",
       "35.0      46\n",
       "70.0      35\n",
       "80.0      31\n",
       "65.0      21\n",
       "8.0       19\n",
       "75.0      16\n",
       "45.0      16\n",
       "90.0      13\n",
       "95.0      11\n",
       "55.0       8\n",
       "6.0        8\n",
       "7.0        8\n",
       "85.0       7\n",
       "12.0       5\n",
       "4.0        5\n",
       "18.0       4\n",
       "9.0        3\n",
       "13.0       2\n",
       "48.0       2\n",
       "17.0       2\n",
       "98.0       2\n",
       "11.0       1\n",
       "33.0       1\n",
       "78.0       1\n",
       "28.0       1\n",
       "51.0       1\n",
       "36.0       1\n",
       "56.0       1\n",
       "Name: olddead, dtype: int64"
      ]
     },
     "execution_count": 17,
     "metadata": {},
     "output_type": "execute_result"
    }
   ],
   "source": [
    "samoa['olddead'].value_counts()"
   ]
  },
  {
   "cell_type": "code",
   "execution_count": 18,
   "id": "future-procurement",
   "metadata": {},
   "outputs": [
    {
     "data": {
      "text/plain": [
       "0.0     4816\n",
       "5.0      134\n",
       "2.0       59\n",
       "1.0       55\n",
       "3.0       52\n",
       "10.0      43\n",
       "15.0       6\n",
       "8.0        6\n",
       "6.0        5\n",
       "20.0       5\n",
       "30.0       2\n",
       "25.0       2\n",
       "4.0        2\n",
       "50.0       2\n",
       "59.0       1\n",
       "60.0       1\n",
       "Name: recentdead_1, dtype: int64"
      ]
     },
     "execution_count": 18,
     "metadata": {},
     "output_type": "execute_result"
    }
   ],
   "source": [
    "samoa['recentdead_1'].value_counts()"
   ]
  },
  {
   "cell_type": "code",
   "execution_count": 19,
   "id": "broke-extraction",
   "metadata": {},
   "outputs": [
    {
     "data": {
      "text/plain": [
       "0.0    5184\n",
       "1.0       3\n",
       "3.0       3\n",
       "5.0       1\n",
       "Name: recentdead_2, dtype: int64"
      ]
     },
     "execution_count": 19,
     "metadata": {},
     "output_type": "execute_result"
    }
   ],
   "source": [
    "samoa['recentdead_2'].value_counts()"
   ]
  },
  {
   "cell_type": "code",
   "execution_count": 20,
   "id": "furnished-organic",
   "metadata": {},
   "outputs": [
    {
     "data": {
      "text/plain": [
       "0.0    5191\n",
       "Name: recentdead_3, dtype: int64"
      ]
     },
     "execution_count": 20,
     "metadata": {},
     "output_type": "execute_result"
    }
   ],
   "source": [
    "samoa['recentdead_3'].value_counts()"
   ]
  },
  {
   "cell_type": "code",
   "execution_count": 21,
   "id": "following-audit",
   "metadata": {},
   "outputs": [
    {
     "data": {
      "text/plain": [
       "Montipora         1265\n",
       "Astrea             635\n",
       "Pocillopora        443\n",
       "Porites            331\n",
       "Favia              311\n",
       "Acropora           292\n",
       "Pavona             279\n",
       "Goniastrea         231\n",
       "Astreopora         225\n",
       "Isopora            209\n",
       "Galaxea            148\n",
       "Leptastrea         124\n",
       "Fungia              99\n",
       "Psammocora          95\n",
       "Leptoria            76\n",
       "Cyphastrea          66\n",
       "Platygyra           60\n",
       "Leptoseris          41\n",
       "Turbinaria          27\n",
       "Favites             27\n",
       "Lobophyllia         20\n",
       "Phymastrea          20\n",
       "Coscinaraea         16\n",
       "Echinopora          15\n",
       "Hydnophora          15\n",
       "Acanthastrea        11\n",
       "Echinophyllia        8\n",
       "Cycloseris           4\n",
       "Millepora            3\n",
       "Stylophora           3\n",
       "Herpolitha           2\n",
       "Mycedium             2\n",
       "Oulophyllia          2\n",
       "Tubastraea           2\n",
       "Merulina             1\n",
       "Sandalolitha         1\n",
       "Alveopora            1\n",
       "Stylocoeniella       1\n",
       "Symphyllia           1\n",
       "Name: genus, dtype: int64"
      ]
     },
     "execution_count": 21,
     "metadata": {},
     "output_type": "execute_result"
    }
   ],
   "source": [
    "samoa['genus'].value_counts()"
   ]
  },
  {
   "cell_type": "code",
   "execution_count": null,
   "id": "lucky-greene",
   "metadata": {},
   "outputs": [],
   "source": []
  }
 ],
 "metadata": {
  "kernelspec": {
   "display_name": "Python 3",
   "language": "python",
   "name": "python3"
  },
  "language_info": {
   "codemirror_mode": {
    "name": "ipython",
    "version": 3
   },
   "file_extension": ".py",
   "mimetype": "text/x-python",
   "name": "python",
   "nbconvert_exporter": "python",
   "pygments_lexer": "ipython3",
   "version": "3.8.2"
  }
 },
 "nbformat": 4,
 "nbformat_minor": 5
}
