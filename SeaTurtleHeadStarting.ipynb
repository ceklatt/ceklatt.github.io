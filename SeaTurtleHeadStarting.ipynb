{
 "cells": [
  {
   "cell_type": "code",
   "execution_count": 1,
   "id": "2e4e01b5",
   "metadata": {},
   "outputs": [],
   "source": [
    "import pandas as pd"
   ]
  },
  {
   "cell_type": "code",
   "execution_count": 2,
   "id": "f98d4ac9",
   "metadata": {},
   "outputs": [],
   "source": [
    "df = pd.read_csv(\"SeaTurtleData.csv\")"
   ]
  },
  {
   "cell_type": "code",
   "execution_count": 3,
   "id": "58a0dc55",
   "metadata": {},
   "outputs": [],
   "source": [
    "import matplotlib.pyplot as plt"
   ]
  },
  {
   "cell_type": "code",
   "execution_count": 4,
   "id": "8ecfc8c7",
   "metadata": {},
   "outputs": [],
   "source": [
    "# Change alive and dead to 1 and 0\n",
    "df['Condition'] = df['Condition'].replace({'Dead': 0, 'Alive': 1})"
   ]
  },
  {
   "cell_type": "code",
   "execution_count": 5,
   "id": "476d00e7",
   "metadata": {},
   "outputs": [],
   "source": [
    "# change yes and no to 1 and 0\n",
    "df['PartsCollected'] = df['PartsCollected'].replace({'No': 0, 'Whole': 1, 'Yes': 1})\n",
    "df['PartsSent?'] = df['PartsSent?'].replace({'No': 0, 'Yes': 1})"
   ]
  },
  {
   "cell_type": "code",
   "execution_count": 6,
   "id": "4b214b3a",
   "metadata": {},
   "outputs": [],
   "source": [
    "df[' RecreationalFisheriesInteraction?'] = df[' RecreationalFisheriesInteraction?'].replace({'No': 0, 'Yes': 1})"
   ]
  },
  {
   "cell_type": "code",
   "execution_count": 7,
   "id": "e49fec53",
   "metadata": {},
   "outputs": [
    {
     "data": {
      "text/html": [
       "<div>\n",
       "<style scoped>\n",
       "    .dataframe tbody tr th:only-of-type {\n",
       "        vertical-align: middle;\n",
       "    }\n",
       "\n",
       "    .dataframe tbody tr th {\n",
       "        vertical-align: top;\n",
       "    }\n",
       "\n",
       "    .dataframe thead th {\n",
       "        text-align: right;\n",
       "    }\n",
       "</style>\n",
       "<table border=\"1\" class=\"dataframe\">\n",
       "  <thead>\n",
       "    <tr style=\"text-align: right;\">\n",
       "      <th></th>\n",
       "      <th>Date</th>\n",
       "      <th>Event</th>\n",
       "      <th>StrandingCode</th>\n",
       "      <th>Species</th>\n",
       "      <th>StrandingLocation</th>\n",
       "      <th>County</th>\n",
       "      <th>DDLatitude</th>\n",
       "      <th>DDLongitude</th>\n",
       "      <th>SCL(cm)</th>\n",
       "      <th>Condition</th>\n",
       "      <th>STSSNConditionCode</th>\n",
       "      <th>Action</th>\n",
       "      <th>Comments</th>\n",
       "      <th>PartsCollected</th>\n",
       "      <th>PartsSent?</th>\n",
       "      <th>RecreationalFisheriesInteraction?</th>\n",
       "    </tr>\n",
       "  </thead>\n",
       "  <tbody>\n",
       "    <tr>\n",
       "      <th>0</th>\n",
       "      <td>1/10/2015</td>\n",
       "      <td>Stranding</td>\n",
       "      <td>LNH150110-01</td>\n",
       "      <td>Cm</td>\n",
       "      <td>San Luis pass, Follets island; shoreline near ...</td>\n",
       "      <td>Brazoria</td>\n",
       "      <td>N29.081019</td>\n",
       "      <td>W-95.130188</td>\n",
       "      <td>27.4</td>\n",
       "      <td>1</td>\n",
       "      <td>0</td>\n",
       "      <td>Taken to NOAA Galveston STF, Released into Chr...</td>\n",
       "      <td>Cold stun. Intake body temperature was 54°F. S...</td>\n",
       "      <td>0</td>\n",
       "      <td>0</td>\n",
       "      <td>0</td>\n",
       "    </tr>\n",
       "    <tr>\n",
       "      <th>1</th>\n",
       "      <td>1/10/2015</td>\n",
       "      <td>Stranding</td>\n",
       "      <td>LNH150110-02</td>\n",
       "      <td>Cm</td>\n",
       "      <td>On Follets island, between beach at 257S and S...</td>\n",
       "      <td>Brazoria</td>\n",
       "      <td>N29.056801</td>\n",
       "      <td>W-95.142929</td>\n",
       "      <td>33.2</td>\n",
       "      <td>1</td>\n",
       "      <td>0</td>\n",
       "      <td>Taken to NOAA Galveston STF, Released into Chr...</td>\n",
       "      <td>Cold stun. Intake body temperature was 51°F. L...</td>\n",
       "      <td>0</td>\n",
       "      <td>0</td>\n",
       "      <td>0</td>\n",
       "    </tr>\n",
       "    <tr>\n",
       "      <th>2</th>\n",
       "      <td>1/10/2015</td>\n",
       "      <td>Stranding</td>\n",
       "      <td>LNH150110-03</td>\n",
       "      <td>Cm</td>\n",
       "      <td>San Luis pass, Follets island; near Treasure i...</td>\n",
       "      <td>Brazoria</td>\n",
       "      <td>N29.077454</td>\n",
       "      <td>W-95.125009</td>\n",
       "      <td>23.4</td>\n",
       "      <td>1</td>\n",
       "      <td>0</td>\n",
       "      <td>Taken to NOAA Galveston STF, Released into Chr...</td>\n",
       "      <td>Cold stun. Intake body temperature was 50°F. L...</td>\n",
       "      <td>0</td>\n",
       "      <td>0</td>\n",
       "      <td>0</td>\n",
       "    </tr>\n",
       "    <tr>\n",
       "      <th>3</th>\n",
       "      <td>1/11/2015</td>\n",
       "      <td>Stranding</td>\n",
       "      <td>LNH150111-01</td>\n",
       "      <td>Cm</td>\n",
       "      <td>In Galveston bay, off 5th street in the bay ha...</td>\n",
       "      <td>Galveston</td>\n",
       "      <td>N29.130262</td>\n",
       "      <td>W-95.073925</td>\n",
       "      <td>32.5</td>\n",
       "      <td>1</td>\n",
       "      <td>0</td>\n",
       "      <td>Taken to NOAA Galveston STF, Released into Chr...</td>\n",
       "      <td>Cold stun. Intake body temperature was 56°F. V...</td>\n",
       "      <td>0</td>\n",
       "      <td>0</td>\n",
       "      <td>0</td>\n",
       "    </tr>\n",
       "    <tr>\n",
       "      <th>4</th>\n",
       "      <td>1/11/2015</td>\n",
       "      <td>Stranding</td>\n",
       "      <td>LNH150111-02</td>\n",
       "      <td>Cm</td>\n",
       "      <td>Christmas bay, approx. 2 miles West of 257S an...</td>\n",
       "      <td>Brazoria</td>\n",
       "      <td>N29.040026</td>\n",
       "      <td>W-95.181629</td>\n",
       "      <td>31.4</td>\n",
       "      <td>1</td>\n",
       "      <td>0</td>\n",
       "      <td>Taken to NOAA Galveston STF, Released into Chr...</td>\n",
       "      <td>Cold stun. Intake body temperature was 59°F. S...</td>\n",
       "      <td>0</td>\n",
       "      <td>0</td>\n",
       "      <td>0</td>\n",
       "    </tr>\n",
       "  </tbody>\n",
       "</table>\n",
       "</div>"
      ],
      "text/plain": [
       "        Date      Event StrandingCode Species  \\\n",
       "0  1/10/2015  Stranding  LNH150110-01      Cm   \n",
       "1  1/10/2015  Stranding  LNH150110-02      Cm   \n",
       "2  1/10/2015  Stranding  LNH150110-03      Cm   \n",
       "3  1/11/2015  Stranding  LNH150111-01      Cm   \n",
       "4  1/11/2015  Stranding  LNH150111-02      Cm   \n",
       "\n",
       "                                   StrandingLocation     County  DDLatitude  \\\n",
       "0  San Luis pass, Follets island; shoreline near ...   Brazoria  N29.081019   \n",
       "1  On Follets island, between beach at 257S and S...   Brazoria  N29.056801   \n",
       "2  San Luis pass, Follets island; near Treasure i...   Brazoria  N29.077454   \n",
       "3  In Galveston bay, off 5th street in the bay ha...  Galveston  N29.130262   \n",
       "4  Christmas bay, approx. 2 miles West of 257S an...   Brazoria  N29.040026   \n",
       "\n",
       "   DDLongitude SCL(cm)  Condition  STSSNConditionCode  \\\n",
       "0  W-95.130188    27.4          1                   0   \n",
       "1  W-95.142929    33.2          1                   0   \n",
       "2  W-95.125009    23.4          1                   0   \n",
       "3  W-95.073925    32.5          1                   0   \n",
       "4  W-95.181629    31.4          1                   0   \n",
       "\n",
       "                                              Action  \\\n",
       "0  Taken to NOAA Galveston STF, Released into Chr...   \n",
       "1  Taken to NOAA Galveston STF, Released into Chr...   \n",
       "2  Taken to NOAA Galveston STF, Released into Chr...   \n",
       "3  Taken to NOAA Galveston STF, Released into Chr...   \n",
       "4  Taken to NOAA Galveston STF, Released into Chr...   \n",
       "\n",
       "                                            Comments PartsCollected  \\\n",
       "0  Cold stun. Intake body temperature was 54°F. S...              0   \n",
       "1  Cold stun. Intake body temperature was 51°F. L...              0   \n",
       "2  Cold stun. Intake body temperature was 50°F. L...              0   \n",
       "3  Cold stun. Intake body temperature was 56°F. V...              0   \n",
       "4  Cold stun. Intake body temperature was 59°F. S...              0   \n",
       "\n",
       "  PartsSent?  RecreationalFisheriesInteraction?  \n",
       "0          0                                  0  \n",
       "1          0                                  0  \n",
       "2          0                                  0  \n",
       "3          0                                  0  \n",
       "4          0                                  0  "
      ]
     },
     "execution_count": 7,
     "metadata": {},
     "output_type": "execute_result"
    }
   ],
   "source": [
    "df.head()"
   ]
  },
  {
   "cell_type": "code",
   "execution_count": 8,
   "id": "4d83bc2c",
   "metadata": {},
   "outputs": [
    {
     "data": {
      "image/png": "[encoded data removed]",
      "text/plain": [
       "<Figure size 432x288 with 1 Axes>"
      ]
     },
     "metadata": {
      "needs_background": "light"
     },
     "output_type": "display_data"
    }
   ],
   "source": [
    "df.plot(x='SCL(cm)', y = 'STSSNConditionCode', kind='scatter')\n",
    "plt.xticks(rotation=60, ha='right')\n",
    "plt.show()"
   ]
  },
  {
   "cell_type": "code",
   "execution_count": 9,
   "id": "2a4f51fa",
   "metadata": {},
   "outputs": [
    {
     "data": {
      "image/png": "[encoded data removed]",
      "text/plain": [
       "<Figure size 432x288 with 1 Axes>"
      ]
     },
     "metadata": {
      "needs_background": "light"
     },
     "output_type": "display_data"
    }
   ],
   "source": [
    "df.plot(x='Condition', y = 'STSSNConditionCode', kind='scatter')\n",
    "plt.show()"
   ]
  },
  {
   "cell_type": "code",
   "execution_count": 10,
   "id": "6e33a816",
   "metadata": {},
   "outputs": [
    {
     "data": {
      "text/html": [
       "<div>\n",
       "<style scoped>\n",
       "    .dataframe tbody tr th:only-of-type {\n",
       "        vertical-align: middle;\n",
       "    }\n",
       "\n",
       "    .dataframe tbody tr th {\n",
       "        vertical-align: top;\n",
       "    }\n",
       "\n",
       "    .dataframe thead th {\n",
       "        text-align: right;\n",
       "    }\n",
       "</style>\n",
       "<table border=\"1\" class=\"dataframe\">\n",
       "  <thead>\n",
       "    <tr style=\"text-align: right;\">\n",
       "      <th></th>\n",
       "      <th>Date</th>\n",
       "      <th>Event</th>\n",
       "      <th>StrandingCode</th>\n",
       "      <th>Species</th>\n",
       "      <th>StrandingLocation</th>\n",
       "      <th>County</th>\n",
       "      <th>DDLatitude</th>\n",
       "      <th>DDLongitude</th>\n",
       "      <th>SCL(cm)</th>\n",
       "      <th>Condition</th>\n",
       "      <th>STSSNConditionCode</th>\n",
       "      <th>Action</th>\n",
       "      <th>Comments</th>\n",
       "      <th>PartsCollected</th>\n",
       "      <th>PartsSent?</th>\n",
       "      <th>RecreationalFisheriesInteraction?</th>\n",
       "    </tr>\n",
       "  </thead>\n",
       "  <tbody>\n",
       "    <tr>\n",
       "      <th>0</th>\n",
       "      <td>1/10/2015</td>\n",
       "      <td>Stranding</td>\n",
       "      <td>LNH150110-01</td>\n",
       "      <td>Cm</td>\n",
       "      <td>San Luis pass, Follets island; shoreline near ...</td>\n",
       "      <td>Brazoria</td>\n",
       "      <td>N29.081019</td>\n",
       "      <td>W-95.130188</td>\n",
       "      <td>27.4</td>\n",
       "      <td>1</td>\n",
       "      <td>0</td>\n",
       "      <td>Taken to NOAA Galveston STF, Released into Chr...</td>\n",
       "      <td>Cold stun. Intake body temperature was 54°F. S...</td>\n",
       "      <td>0</td>\n",
       "      <td>0</td>\n",
       "      <td>0</td>\n",
       "    </tr>\n",
       "    <tr>\n",
       "      <th>1</th>\n",
       "      <td>1/10/2015</td>\n",
       "      <td>Stranding</td>\n",
       "      <td>LNH150110-02</td>\n",
       "      <td>Cm</td>\n",
       "      <td>On Follets island, between beach at 257S and S...</td>\n",
       "      <td>Brazoria</td>\n",
       "      <td>N29.056801</td>\n",
       "      <td>W-95.142929</td>\n",
       "      <td>33.2</td>\n",
       "      <td>1</td>\n",
       "      <td>0</td>\n",
       "      <td>Taken to NOAA Galveston STF, Released into Chr...</td>\n",
       "      <td>Cold stun. Intake body temperature was 51°F. L...</td>\n",
       "      <td>0</td>\n",
       "      <td>0</td>\n",
       "      <td>0</td>\n",
       "    </tr>\n",
       "    <tr>\n",
       "      <th>2</th>\n",
       "      <td>1/10/2015</td>\n",
       "      <td>Stranding</td>\n",
       "      <td>LNH150110-03</td>\n",
       "      <td>Cm</td>\n",
       "      <td>San Luis pass, Follets island; near Treasure i...</td>\n",
       "      <td>Brazoria</td>\n",
       "      <td>N29.077454</td>\n",
       "      <td>W-95.125009</td>\n",
       "      <td>23.4</td>\n",
       "      <td>1</td>\n",
       "      <td>0</td>\n",
       "      <td>Taken to NOAA Galveston STF, Released into Chr...</td>\n",
       "      <td>Cold stun. Intake body temperature was 50°F. L...</td>\n",
       "      <td>0</td>\n",
       "      <td>0</td>\n",
       "      <td>0</td>\n",
       "    </tr>\n",
       "    <tr>\n",
       "      <th>3</th>\n",
       "      <td>1/11/2015</td>\n",
       "      <td>Stranding</td>\n",
       "      <td>LNH150111-01</td>\n",
       "      <td>Cm</td>\n",
       "      <td>In Galveston bay, off 5th street in the bay ha...</td>\n",
       "      <td>Galveston</td>\n",
       "      <td>N29.130262</td>\n",
       "      <td>W-95.073925</td>\n",
       "      <td>32.5</td>\n",
       "      <td>1</td>\n",
       "      <td>0</td>\n",
       "      <td>Taken to NOAA Galveston STF, Released into Chr...</td>\n",
       "      <td>Cold stun. Intake body temperature was 56°F. V...</td>\n",
       "      <td>0</td>\n",
       "      <td>0</td>\n",
       "      <td>0</td>\n",
       "    </tr>\n",
       "    <tr>\n",
       "      <th>4</th>\n",
       "      <td>1/11/2015</td>\n",
       "      <td>Stranding</td>\n",
       "      <td>LNH150111-02</td>\n",
       "      <td>Cm</td>\n",
       "      <td>Christmas bay, approx. 2 miles West of 257S an...</td>\n",
       "      <td>Brazoria</td>\n",
       "      <td>N29.040026</td>\n",
       "      <td>W-95.181629</td>\n",
       "      <td>31.4</td>\n",
       "      <td>1</td>\n",
       "      <td>0</td>\n",
       "      <td>Taken to NOAA Galveston STF, Released into Chr...</td>\n",
       "      <td>Cold stun. Intake body temperature was 59°F. S...</td>\n",
       "      <td>0</td>\n",
       "      <td>0</td>\n",
       "      <td>0</td>\n",
       "    </tr>\n",
       "    <tr>\n",
       "      <th>...</th>\n",
       "      <td>...</td>\n",
       "      <td>...</td>\n",
       "      <td>...</td>\n",
       "      <td>...</td>\n",
       "      <td>...</td>\n",
       "      <td>...</td>\n",
       "      <td>...</td>\n",
       "      <td>...</td>\n",
       "      <td>...</td>\n",
       "      <td>...</td>\n",
       "      <td>...</td>\n",
       "      <td>...</td>\n",
       "      <td>...</td>\n",
       "      <td>...</td>\n",
       "      <td>...</td>\n",
       "      <td>...</td>\n",
       "    </tr>\n",
       "    <tr>\n",
       "      <th>218</th>\n",
       "      <td>12/22/2015</td>\n",
       "      <td>Stranding</td>\n",
       "      <td>ARK151222-01</td>\n",
       "      <td>Cm</td>\n",
       "      <td>Texas city dike, on the rocks near the light p...</td>\n",
       "      <td>Galveston</td>\n",
       "      <td>N29.36810</td>\n",
       "      <td>W-94.82085</td>\n",
       "      <td>EST. 30.4</td>\n",
       "      <td>0</td>\n",
       "      <td>3</td>\n",
       "      <td>Buried on the beach</td>\n",
       "      <td>Notch missing from the trailing edge of the ri...</td>\n",
       "      <td>0</td>\n",
       "      <td>0</td>\n",
       "      <td>0</td>\n",
       "    </tr>\n",
       "    <tr>\n",
       "      <th>219</th>\n",
       "      <td>12/24/2015</td>\n",
       "      <td>Stranding</td>\n",
       "      <td>ARK151224-01</td>\n",
       "      <td>Cm</td>\n",
       "      <td>Bolivar peninsula, off of Pontiff street, at t...</td>\n",
       "      <td>Galveston</td>\n",
       "      <td>N29.51343</td>\n",
       "      <td>W-94.48440</td>\n",
       "      <td>39.0</td>\n",
       "      <td>0</td>\n",
       "      <td>1</td>\n",
       "      <td>Painted orange and buried on the beach</td>\n",
       "      <td>No wounds or abnormalities noted. Cloaca purse...</td>\n",
       "      <td>0</td>\n",
       "      <td>0</td>\n",
       "      <td>0</td>\n",
       "    </tr>\n",
       "    <tr>\n",
       "      <th>220</th>\n",
       "      <td>12/24/2015</td>\n",
       "      <td>Stranding</td>\n",
       "      <td>ARK151224-02</td>\n",
       "      <td>Cm</td>\n",
       "      <td>Bolivar peninsula, 5 miles East of Bolivar fer...</td>\n",
       "      <td>Galveston</td>\n",
       "      <td>N29.39436</td>\n",
       "      <td>W-94.71508</td>\n",
       "      <td>34.5</td>\n",
       "      <td>0</td>\n",
       "      <td>2</td>\n",
       "      <td>Painted orange and buried on the beach</td>\n",
       "      <td>Rear flippers devoid of tissue, and absent pos...</td>\n",
       "      <td>0</td>\n",
       "      <td>0</td>\n",
       "      <td>0</td>\n",
       "    </tr>\n",
       "    <tr>\n",
       "      <th>221</th>\n",
       "      <td>12/29/2015</td>\n",
       "      <td>Stranding</td>\n",
       "      <td>LNH151229-01</td>\n",
       "      <td>Cm</td>\n",
       "      <td>On the East end of Galveston Island, along the...</td>\n",
       "      <td>Galveston</td>\n",
       "      <td>N29.336439</td>\n",
       "      <td>W-94.758153</td>\n",
       "      <td>32.0</td>\n",
       "      <td>1</td>\n",
       "      <td>0</td>\n",
       "      <td>Taken to NOAA Galveston STF</td>\n",
       "      <td>Cold stun. Body temperature 57.0F. Light algae...</td>\n",
       "      <td>0</td>\n",
       "      <td>0</td>\n",
       "      <td>0</td>\n",
       "    </tr>\n",
       "    <tr>\n",
       "      <th>222</th>\n",
       "      <td>12/27/2015</td>\n",
       "      <td>Stranding</td>\n",
       "      <td>CLM151227-01</td>\n",
       "      <td>Cc</td>\n",
       "      <td>Bolivar peninsula, West of Rettilion Rd. at th...</td>\n",
       "      <td>Galveston</td>\n",
       "      <td>N29.372519</td>\n",
       "      <td>W-94.728055</td>\n",
       "      <td>78.0</td>\n",
       "      <td>0</td>\n",
       "      <td>3</td>\n",
       "      <td>Body not found on arrival.</td>\n",
       "      <td>Only the head and front flippers of the turtle...</td>\n",
       "      <td>0</td>\n",
       "      <td>0</td>\n",
       "      <td>0</td>\n",
       "    </tr>\n",
       "  </tbody>\n",
       "</table>\n",
       "<p>223 rows × 16 columns</p>\n",
       "</div>"
      ],
      "text/plain": [
       "           Date      Event StrandingCode Species  \\\n",
       "0     1/10/2015  Stranding  LNH150110-01      Cm   \n",
       "1     1/10/2015  Stranding  LNH150110-02      Cm   \n",
       "2     1/10/2015  Stranding  LNH150110-03      Cm   \n",
       "3     1/11/2015  Stranding  LNH150111-01      Cm   \n",
       "4     1/11/2015  Stranding  LNH150111-02      Cm   \n",
       "..          ...        ...           ...     ...   \n",
       "218  12/22/2015  Stranding  ARK151222-01      Cm   \n",
       "219  12/24/2015  Stranding  ARK151224-01      Cm   \n",
       "220  12/24/2015  Stranding  ARK151224-02      Cm   \n",
       "221  12/29/2015  Stranding  LNH151229-01      Cm   \n",
       "222  12/27/2015  Stranding  CLM151227-01      Cc   \n",
       "\n",
       "                                     StrandingLocation     County  DDLatitude  \\\n",
       "0    San Luis pass, Follets island; shoreline near ...   Brazoria  N29.081019   \n",
       "1    On Follets island, between beach at 257S and S...   Brazoria  N29.056801   \n",
       "2    San Luis pass, Follets island; near Treasure i...   Brazoria  N29.077454   \n",
       "3    In Galveston bay, off 5th street in the bay ha...  Galveston  N29.130262   \n",
       "4    Christmas bay, approx. 2 miles West of 257S an...   Brazoria  N29.040026   \n",
       "..                                                 ...        ...         ...   \n",
       "218  Texas city dike, on the rocks near the light p...  Galveston   N29.36810   \n",
       "219  Bolivar peninsula, off of Pontiff street, at t...  Galveston   N29.51343   \n",
       "220  Bolivar peninsula, 5 miles East of Bolivar fer...  Galveston   N29.39436   \n",
       "221  On the East end of Galveston Island, along the...  Galveston  N29.336439   \n",
       "222  Bolivar peninsula, West of Rettilion Rd. at th...  Galveston  N29.372519   \n",
       "\n",
       "     DDLongitude    SCL(cm)  Condition  STSSNConditionCode  \\\n",
       "0    W-95.130188       27.4          1                   0   \n",
       "1    W-95.142929       33.2          1                   0   \n",
       "2    W-95.125009       23.4          1                   0   \n",
       "3    W-95.073925       32.5          1                   0   \n",
       "4    W-95.181629       31.4          1                   0   \n",
       "..           ...        ...        ...                 ...   \n",
       "218   W-94.82085  EST. 30.4          0                   3   \n",
       "219   W-94.48440       39.0          0                   1   \n",
       "220   W-94.71508       34.5          0                   2   \n",
       "221  W-94.758153       32.0          1                   0   \n",
       "222  W-94.728055       78.0          0                   3   \n",
       "\n",
       "                                                Action  \\\n",
       "0    Taken to NOAA Galveston STF, Released into Chr...   \n",
       "1    Taken to NOAA Galveston STF, Released into Chr...   \n",
       "2    Taken to NOAA Galveston STF, Released into Chr...   \n",
       "3    Taken to NOAA Galveston STF, Released into Chr...   \n",
       "4    Taken to NOAA Galveston STF, Released into Chr...   \n",
       "..                                                 ...   \n",
       "218                                Buried on the beach   \n",
       "219             Painted orange and buried on the beach   \n",
       "220             Painted orange and buried on the beach   \n",
       "221                        Taken to NOAA Galveston STF   \n",
       "222                         Body not found on arrival.   \n",
       "\n",
       "                                              Comments PartsCollected  \\\n",
       "0    Cold stun. Intake body temperature was 54°F. S...              0   \n",
       "1    Cold stun. Intake body temperature was 51°F. L...              0   \n",
       "2    Cold stun. Intake body temperature was 50°F. L...              0   \n",
       "3    Cold stun. Intake body temperature was 56°F. V...              0   \n",
       "4    Cold stun. Intake body temperature was 59°F. S...              0   \n",
       "..                                                 ...            ...   \n",
       "218  Notch missing from the trailing edge of the ri...              0   \n",
       "219  No wounds or abnormalities noted. Cloaca purse...              0   \n",
       "220  Rear flippers devoid of tissue, and absent pos...              0   \n",
       "221  Cold stun. Body temperature 57.0F. Light algae...              0   \n",
       "222  Only the head and front flippers of the turtle...              0   \n",
       "\n",
       "    PartsSent?  RecreationalFisheriesInteraction?  \n",
       "0            0                                  0  \n",
       "1            0                                  0  \n",
       "2            0                                  0  \n",
       "3            0                                  0  \n",
       "4            0                                  0  \n",
       "..         ...                                ...  \n",
       "218          0                                  0  \n",
       "219          0                                  0  \n",
       "220          0                                  0  \n",
       "221          0                                  0  \n",
       "222          0                                  0  \n",
       "\n",
       "[223 rows x 16 columns]"
      ]
     },
     "execution_count": 10,
     "metadata": {},
     "output_type": "execute_result"
    }
   ],
   "source": [
    "df"
   ]
  },
  {
   "cell_type": "code",
   "execution_count": 11,
   "id": "1b97afa6",
   "metadata": {},
   "outputs": [
    {
     "data": {
      "image/png": "[encoded data removed]",
      "text/plain": [
       "<Figure size 432x288 with 1 Axes>"
      ]
     },
     "metadata": {
      "needs_background": "light"
     },
     "output_type": "display_data"
    }
   ],
   "source": [
    "df.plot(x='Date', y = 'SCL(cm)', kind='scatter')\n",
    "plt.xticks(rotation=30, ha='right')\n",
    "plt.show()"
   ]
  },
  {
   "cell_type": "code",
   "execution_count": 12,
   "id": "4bd8627e",
   "metadata": {},
   "outputs": [],
   "source": [
    "df = df.rename(columns = {\"SCL(cm)\":\"SCL\"})"
   ]
  },
  {
   "cell_type": "code",
   "execution_count": 13,
   "id": "bca9bc90",
   "metadata": {},
   "outputs": [],
   "source": [
    "# remove \"est\" from lengths\n",
    "df['SCL'] = df['SCL'].str.strip('Est: ')\n",
    "df['SCL'] = df['SCL'].str.strip('Est. ')\n",
    "df['SCL'] = df['SCL'].str.strip('Est ')\n",
    "df['SCL'] = df['SCL'].str.strip('Est . ')\n",
    "df['SCL'] = df['SCL'].str.strip('ST ')\n",
    "df['SCL'] = df['SCL'].replace({'. 35.0': '35'})\n",
    "df['SCL'] = df['SCL'].replace({'. 34.2': '34.2'})\n",
    "df['SCL'] = df['SCL'].replace({'. 74.0': '74'})\n",
    "df['SCL'] = df['SCL'].replace({'. 30.4': '30.4'})"
   ]
  },
  {
   "cell_type": "code",
   "execution_count": 14,
   "id": "5813b5c8",
   "metadata": {},
   "outputs": [],
   "source": [
    "df = df[~df['SCL'].str.contains('CCL')]"
   ]
  },
  {
   "cell_type": "code",
   "execution_count": 15,
   "id": "ecc49452",
   "metadata": {},
   "outputs": [
    {
     "data": {
      "text/plain": [
       "'17.4'"
      ]
     },
     "execution_count": 15,
     "metadata": {},
     "output_type": "execute_result"
    }
   ],
   "source": [
    "df['SCL'].min()"
   ]
  },
  {
   "cell_type": "code",
   "execution_count": 16,
   "id": "85cb846e",
   "metadata": {},
   "outputs": [
    {
     "data": {
      "text/plain": [
       "'88.1'"
      ]
     },
     "execution_count": 16,
     "metadata": {},
     "output_type": "execute_result"
    }
   ],
   "source": [
    "df['SCL'].max()"
   ]
  },
  {
   "cell_type": "code",
   "execution_count": 17,
   "id": "4aaecc5e",
   "metadata": {},
   "outputs": [],
   "source": [
    "dfSCL = pd.to_numeric(df.SCL)"
   ]
  },
  {
   "cell_type": "code",
   "execution_count": 18,
   "id": "def94c30",
   "metadata": {},
   "outputs": [
    {
     "data": {
      "text/plain": [
       "40.907762557077625"
      ]
     },
     "execution_count": 18,
     "metadata": {},
     "output_type": "execute_result"
    }
   ],
   "source": [
    "dfSCL.mean()"
   ]
  },
  {
   "cell_type": "code",
   "execution_count": null,
   "id": "48054f3c",
   "metadata": {},
   "outputs": [],
   "source": []
  },
  {
   "cell_type": "code",
   "execution_count": 19,
   "id": "491ccbab",
   "metadata": {},
   "outputs": [],
   "source": [
    "# Head Starting data - looking at average SCL (straight carapace length) upon release"
   ]
  },
  {
   "cell_type": "code",
   "execution_count": 20,
   "id": "aa4d8767",
   "metadata": {},
   "outputs": [],
   "source": [
    "# 2011 data\n",
    "hs2011 = pd.read_csv(\"ST2011.csv\")"
   ]
  },
  {
   "cell_type": "code",
   "execution_count": 21,
   "id": "70542b61",
   "metadata": {},
   "outputs": [],
   "source": [
    "del hs2011['Unnamed: 3']\n",
    "del hs2011['Unnamed: 4']\n",
    "del hs2011['Unnamed: 5']\n",
    "del hs2011['Unnamed: 6']\n",
    "del hs2011['Unnamed: 7']\n",
    "del hs2011['Unnamed: 8']\n",
    "del hs2011['Unnamed: 19']"
   ]
  },
  {
   "cell_type": "code",
   "execution_count": 22,
   "id": "fb0fafac",
   "metadata": {},
   "outputs": [],
   "source": [
    "hs2011 = hs2011.dropna()"
   ]
  },
  {
   "cell_type": "code",
   "execution_count": 23,
   "id": "8a909709",
   "metadata": {},
   "outputs": [],
   "source": [
    "hs2011 = hs2011.drop(hs2011.index[:1])"
   ]
  },
  {
   "cell_type": "code",
   "execution_count": 24,
   "id": "3ddb2312",
   "metadata": {},
   "outputs": [],
   "source": [
    "# 2012 data\n",
    "hs2012 = pd.read_csv(\"ST2012.csv\")"
   ]
  },
  {
   "cell_type": "code",
   "execution_count": 25,
   "id": "ba794cbc",
   "metadata": {},
   "outputs": [],
   "source": [
    "del hs2012['Unnamed: 8']\n",
    "del hs2012['Diet or']\n",
    "del hs2012['First Care Area Identification Number']\n",
    "del hs2012['Unnamed: 20']"
   ]
  },
  {
   "cell_type": "code",
   "execution_count": 26,
   "id": "f6400a8b",
   "metadata": {},
   "outputs": [],
   "source": [
    "hs2012 = hs2012.dropna()\n",
    "hs2012 = hs2012.drop(hs2012.index[:1])"
   ]
  },
  {
   "cell_type": "code",
   "execution_count": 27,
   "id": "345ef9f3",
   "metadata": {},
   "outputs": [],
   "source": [
    "# 2013 data\n",
    "hs2013 = pd.read_csv(\"ST2013.csv\")"
   ]
  },
  {
   "cell_type": "code",
   "execution_count": 28,
   "id": "15f860fd",
   "metadata": {},
   "outputs": [],
   "source": [
    "del hs2013['Unnamed: 3']\n",
    "del hs2013['Unnamed: 4']\n",
    "del hs2013['Unnamed: 5']\n",
    "del hs2013['Unnamed: 6']\n",
    "del hs2013['Diet or']\n",
    "del hs2013['Unnamed: 8']\n",
    "del hs2013['Unnamed: 19']"
   ]
  },
  {
   "cell_type": "code",
   "execution_count": 29,
   "id": "f639a207",
   "metadata": {},
   "outputs": [],
   "source": [
    "hs2013 = hs2013.dropna()\n",
    "hs2013 = hs2013.drop(hs2013.index[:1])"
   ]
  },
  {
   "cell_type": "code",
   "execution_count": 30,
   "id": "69261408",
   "metadata": {},
   "outputs": [],
   "source": [
    "# 2014 data\n",
    "hs2014 = pd.read_csv(\"ST2014.csv\")"
   ]
  },
  {
   "cell_type": "code",
   "execution_count": 31,
   "id": "39a18436",
   "metadata": {},
   "outputs": [
    {
     "data": {
      "text/html": [
       "<div>\n",
       "<style scoped>\n",
       "    .dataframe tbody tr th:only-of-type {\n",
       "        vertical-align: middle;\n",
       "    }\n",
       "\n",
       "    .dataframe tbody tr th {\n",
       "        vertical-align: top;\n",
       "    }\n",
       "\n",
       "    .dataframe thead th {\n",
       "        text-align: right;\n",
       "    }\n",
       "</style>\n",
       "<table border=\"1\" class=\"dataframe\">\n",
       "  <thead>\n",
       "    <tr style=\"text-align: right;\">\n",
       "      <th></th>\n",
       "      <th>Unnamed: 0</th>\n",
       "      <th>Unnamed: 1</th>\n",
       "      <th>MEASURE</th>\n",
       "      <th>Unnamed: 3</th>\n",
       "      <th>Unnamed: 4</th>\n",
       "      <th>Unnamed: 5</th>\n",
       "      <th>Unnamed: 6</th>\n",
       "      <th>Diet or</th>\n",
       "      <th>Unnamed: 8</th>\n",
       "      <th>FLIPPER</th>\n",
       "      <th>...</th>\n",
       "      <th>WEIGHT</th>\n",
       "      <th>LENGTH</th>\n",
       "      <th>WIDTH</th>\n",
       "      <th>DEPTH</th>\n",
       "      <th>Unnamed: 15</th>\n",
       "      <th>PIT TAG</th>\n",
       "      <th>RELEASE</th>\n",
       "      <th>RELEASE.1</th>\n",
       "      <th>SEX</th>\n",
       "      <th>Unnamed: 20</th>\n",
       "    </tr>\n",
       "  </thead>\n",
       "  <tbody>\n",
       "    <tr>\n",
       "      <th>0</th>\n",
       "      <td>SPECIES</td>\n",
       "      <td>YEARCLASS</td>\n",
       "      <td>DATE</td>\n",
       "      <td>NEST</td>\n",
       "      <td>RACEWAY</td>\n",
       "      <td>CRATE</td>\n",
       "      <td>ROW</td>\n",
       "      <td>Column</td>\n",
       "      <td>POSITION</td>\n",
       "      <td>TAG CODE</td>\n",
       "      <td>...</td>\n",
       "      <td>(g)</td>\n",
       "      <td>SCL (cm)</td>\n",
       "      <td>MAX (cm)</td>\n",
       "      <td>MAX (cm)</td>\n",
       "      <td>PIT TAG CODE</td>\n",
       "      <td>LOCATION</td>\n",
       "      <td>DATE</td>\n",
       "      <td>LOCATION</td>\n",
       "      <td>NaN</td>\n",
       "      <td>COMMENTS</td>\n",
       "    </tr>\n",
       "    <tr>\n",
       "      <th>1</th>\n",
       "      <td>C. caretta</td>\n",
       "      <td>2014</td>\n",
       "      <td>7/29/2014</td>\n",
       "      <td>14AG</td>\n",
       "      <td>3</td>\n",
       "      <td>NaN</td>\n",
       "      <td>NaN</td>\n",
       "      <td>NaN</td>\n",
       "      <td>NaN</td>\n",
       "      <td>NaN</td>\n",
       "      <td>...</td>\n",
       "      <td>18.90</td>\n",
       "      <td>4.45</td>\n",
       "      <td>3.46</td>\n",
       "      <td>1.92</td>\n",
       "      <td>NaN</td>\n",
       "      <td>NaN</td>\n",
       "      <td>NaN</td>\n",
       "      <td>NaN</td>\n",
       "      <td>NaN</td>\n",
       "      <td>Hatched 7/27/2014</td>\n",
       "    </tr>\n",
       "    <tr>\n",
       "      <th>2</th>\n",
       "      <td>C. caretta</td>\n",
       "      <td>2014</td>\n",
       "      <td>7/29/2014</td>\n",
       "      <td>14AG</td>\n",
       "      <td>3</td>\n",
       "      <td>NaN</td>\n",
       "      <td>NaN</td>\n",
       "      <td>NaN</td>\n",
       "      <td>NaN</td>\n",
       "      <td>NaN</td>\n",
       "      <td>...</td>\n",
       "      <td>17.50</td>\n",
       "      <td>4.37</td>\n",
       "      <td>3.32</td>\n",
       "      <td>1.84</td>\n",
       "      <td>NaN</td>\n",
       "      <td>NaN</td>\n",
       "      <td>NaN</td>\n",
       "      <td>NaN</td>\n",
       "      <td>NaN</td>\n",
       "      <td>NaN</td>\n",
       "    </tr>\n",
       "    <tr>\n",
       "      <th>3</th>\n",
       "      <td>C. caretta</td>\n",
       "      <td>2014</td>\n",
       "      <td>7/29/2014</td>\n",
       "      <td>14AG</td>\n",
       "      <td>3</td>\n",
       "      <td>NaN</td>\n",
       "      <td>NaN</td>\n",
       "      <td>NaN</td>\n",
       "      <td>NaN</td>\n",
       "      <td>NaN</td>\n",
       "      <td>...</td>\n",
       "      <td>19.30</td>\n",
       "      <td>4.58</td>\n",
       "      <td>3.48</td>\n",
       "      <td>1.94</td>\n",
       "      <td>NaN</td>\n",
       "      <td>NaN</td>\n",
       "      <td>NaN</td>\n",
       "      <td>NaN</td>\n",
       "      <td>NaN</td>\n",
       "      <td>NaN</td>\n",
       "    </tr>\n",
       "    <tr>\n",
       "      <th>4</th>\n",
       "      <td>C. caretta</td>\n",
       "      <td>2014</td>\n",
       "      <td>7/29/2014</td>\n",
       "      <td>14AG</td>\n",
       "      <td>3</td>\n",
       "      <td>NaN</td>\n",
       "      <td>NaN</td>\n",
       "      <td>NaN</td>\n",
       "      <td>NaN</td>\n",
       "      <td>NaN</td>\n",
       "      <td>...</td>\n",
       "      <td>18.00</td>\n",
       "      <td>4.38</td>\n",
       "      <td>3.50</td>\n",
       "      <td>1.88</td>\n",
       "      <td>NaN</td>\n",
       "      <td>NaN</td>\n",
       "      <td>NaN</td>\n",
       "      <td>NaN</td>\n",
       "      <td>NaN</td>\n",
       "      <td>NaN</td>\n",
       "    </tr>\n",
       "  </tbody>\n",
       "</table>\n",
       "<p>5 rows × 21 columns</p>\n",
       "</div>"
      ],
      "text/plain": [
       "   Unnamed: 0 Unnamed: 1    MEASURE Unnamed: 3 Unnamed: 4 Unnamed: 5  \\\n",
       "0     SPECIES  YEARCLASS       DATE       NEST    RACEWAY      CRATE   \n",
       "1  C. caretta       2014  7/29/2014       14AG          3        NaN   \n",
       "2  C. caretta       2014  7/29/2014       14AG          3        NaN   \n",
       "3  C. caretta       2014  7/29/2014       14AG          3        NaN   \n",
       "4  C. caretta       2014  7/29/2014       14AG          3        NaN   \n",
       "\n",
       "  Unnamed: 6 Diet or Unnamed: 8   FLIPPER  ... WEIGHT    LENGTH     WIDTH  \\\n",
       "0        ROW  Column   POSITION  TAG CODE  ...    (g)  SCL (cm)  MAX (cm)   \n",
       "1        NaN     NaN        NaN       NaN  ...  18.90      4.45      3.46   \n",
       "2        NaN     NaN        NaN       NaN  ...  17.50      4.37      3.32   \n",
       "3        NaN     NaN        NaN       NaN  ...  19.30      4.58      3.48   \n",
       "4        NaN     NaN        NaN       NaN  ...  18.00      4.38      3.50   \n",
       "\n",
       "      DEPTH   Unnamed: 15   PIT TAG RELEASE RELEASE.1  SEX        Unnamed: 20  \n",
       "0  MAX (cm)  PIT TAG CODE  LOCATION    DATE  LOCATION  NaN           COMMENTS  \n",
       "1      1.92           NaN       NaN     NaN       NaN  NaN  Hatched 7/27/2014  \n",
       "2      1.84           NaN       NaN     NaN       NaN  NaN                NaN  \n",
       "3      1.94           NaN       NaN     NaN       NaN  NaN                NaN  \n",
       "4      1.88           NaN       NaN     NaN       NaN  NaN                NaN  \n",
       "\n",
       "[5 rows x 21 columns]"
      ]
     },
     "execution_count": 31,
     "metadata": {},
     "output_type": "execute_result"
    }
   ],
   "source": [
    "hs2014.head()"
   ]
  },
  {
   "cell_type": "code",
   "execution_count": 32,
   "id": "74e40c3a",
   "metadata": {},
   "outputs": [],
   "source": [
    "del hs2014['Unnamed: 3']\n",
    "del hs2014['Unnamed: 4']\n",
    "del hs2014['Unnamed: 5']\n",
    "del hs2014['Unnamed: 6']\n",
    "del hs2014['Diet or']\n",
    "del hs2014['Unnamed: 8']\n",
    "del hs2014['Unnamed: 20']\n",
    "del hs2014['SEX']"
   ]
  },
  {
   "cell_type": "code",
   "execution_count": 33,
   "id": "bffab424",
   "metadata": {},
   "outputs": [],
   "source": [
    "hs2014 = hs2014.dropna()\n",
    "hs2014 = hs2014.drop(hs2014.index[:1])"
   ]
  },
  {
   "cell_type": "code",
   "execution_count": 34,
   "id": "b4e1bb4a",
   "metadata": {},
   "outputs": [],
   "source": [
    "# Find average scl at release"
   ]
  },
  {
   "cell_type": "code",
   "execution_count": 35,
   "id": "f87405ca",
   "metadata": {
    "scrolled": true
   },
   "outputs": [
    {
     "data": {
      "text/plain": [
       "3275    36.80\n",
       "3278    36.70\n",
       "3281    36.40\n",
       "3283    36.40\n",
       "3285    36.20\n",
       "        ...  \n",
       "3716    45.00\n",
       "3717    45.00\n",
       "3718    43.40\n",
       "3719    45.60\n",
       "3720    43.60\n",
       "Name: LENGTH, Length: 139, dtype: object"
      ]
     },
     "execution_count": 35,
     "metadata": {},
     "output_type": "execute_result"
    }
   ],
   "source": [
    "hs2011.LENGTH"
   ]
  },
  {
   "cell_type": "code",
   "execution_count": 36,
   "id": "8de8a9e1",
   "metadata": {},
   "outputs": [
    {
     "data": {
      "text/plain": [
       "36.045323741007195"
      ]
     },
     "execution_count": 36,
     "metadata": {},
     "output_type": "execute_result"
    }
   ],
   "source": [
    "scl2011 = pd.to_numeric(hs2011.LENGTH)\n",
    "scl2011.mean()"
   ]
  },
  {
   "cell_type": "code",
   "execution_count": 37,
   "id": "fe162e04",
   "metadata": {},
   "outputs": [
    {
     "data": {
      "text/plain": [
       "Series([], Name: LENGTH, dtype: object)"
      ]
     },
     "execution_count": 37,
     "metadata": {},
     "output_type": "execute_result"
    }
   ],
   "source": [
    "hs2012.LENGTH"
   ]
  },
  {
   "cell_type": "code",
   "execution_count": 38,
   "id": "e5e610b7",
   "metadata": {},
   "outputs": [
    {
     "data": {
      "text/plain": [
       "nan"
      ]
     },
     "execution_count": 38,
     "metadata": {},
     "output_type": "execute_result"
    }
   ],
   "source": [
    "scl2012 = pd.to_numeric(hs2012.LENGTH)\n",
    "scl2012.mean()"
   ]
  },
  {
   "cell_type": "code",
   "execution_count": 39,
   "id": "0721f482",
   "metadata": {},
   "outputs": [
    {
     "data": {
      "text/plain": [
       "5455    33.80\n",
       "5456    35.20\n",
       "5457    31.80\n",
       "5458    33.00\n",
       "5459    31.90\n",
       "        ...  \n",
       "5648    33.30\n",
       "5649    32.90\n",
       "5650    33.30\n",
       "5651    33.80\n",
       "5652    29.30\n",
       "Name: LENGTH, Length: 198, dtype: object"
      ]
     },
     "execution_count": 39,
     "metadata": {},
     "output_type": "execute_result"
    }
   ],
   "source": [
    "hs2013.LENGTH"
   ]
  },
  {
   "cell_type": "code",
   "execution_count": 40,
   "id": "f04c51b9",
   "metadata": {},
   "outputs": [
    {
     "data": {
      "text/plain": [
       "33.10909090909092"
      ]
     },
     "execution_count": 40,
     "metadata": {},
     "output_type": "execute_result"
    }
   ],
   "source": [
    "scl2013 = pd.to_numeric(hs2013.LENGTH)\n",
    "scl2013.mean()"
   ]
  },
  {
   "cell_type": "code",
   "execution_count": 41,
   "id": "edcbe5ca",
   "metadata": {},
   "outputs": [
    {
     "data": {
      "text/plain": [
       "4999    32.80\n",
       "5000    32.20\n",
       "5001    30.30\n",
       "5002    29.30\n",
       "5003    32.20\n",
       "        ...  \n",
       "5154    33.30\n",
       "5155    32.00\n",
       "5156    33.00\n",
       "5157    33.60\n",
       "5158    31.90\n",
       "Name: LENGTH, Length: 160, dtype: object"
      ]
     },
     "execution_count": 41,
     "metadata": {},
     "output_type": "execute_result"
    }
   ],
   "source": [
    "hs2014.LENGTH"
   ]
  },
  {
   "cell_type": "code",
   "execution_count": 42,
   "id": "f44553bd",
   "metadata": {},
   "outputs": [
    {
     "data": {
      "text/plain": [
       "33.53375"
      ]
     },
     "execution_count": 42,
     "metadata": {},
     "output_type": "execute_result"
    }
   ],
   "source": [
    "scl2014 = pd.to_numeric(hs2014.LENGTH)\n",
    "scl2014.mean()"
   ]
  },
  {
   "cell_type": "code",
   "execution_count": 43,
   "id": "2d380641",
   "metadata": {},
   "outputs": [],
   "source": [
    "# 2011 weight = 139, mean = 36.045323741007195\n",
    "# 2012 \n",
    "# 2013 weight = 198, mean = 33.10909090909092\n",
    "# 2014 weight = 160, mean = 33.53375"
   ]
  },
  {
   "cell_type": "code",
   "execution_count": 44,
   "id": "d5bb72b2",
   "metadata": {},
   "outputs": [],
   "source": [
    "scl = pd.merge(scl2011, scl2013, how='right')"
   ]
  },
  {
   "cell_type": "code",
   "execution_count": 45,
   "id": "fdf81c8f",
   "metadata": {},
   "outputs": [],
   "source": [
    "scl = pd.merge(scl, scl2014, how='right')"
   ]
  },
  {
   "cell_type": "code",
   "execution_count": 46,
   "id": "6d35659d",
   "metadata": {},
   "outputs": [],
   "source": [
    "# T Test to look for significant difference between SCL of released headstarted turtles and rescued turtles"
   ]
  },
  {
   "cell_type": "code",
   "execution_count": 47,
   "id": "ed399722",
   "metadata": {},
   "outputs": [
    {
     "name": "stdout",
     "output_type": "stream",
     "text": [
      "Ttest_indResult(statistic=array([15.67163329]), pvalue=array([1.35707628e-51]))\n"
     ]
    }
   ],
   "source": [
    "import numpy as np\n",
    "from scipy.stats import ttest_ind\n",
    "\n",
    "v1 = dfSCL\n",
    "v2 = scl\n",
    "\n",
    "res = ttest_ind(v1, v2)\n",
    "\n",
    "print(res)"
   ]
  },
  {
   "cell_type": "code",
   "execution_count": null,
   "id": "f9feb2ba",
   "metadata": {},
   "outputs": [],
   "source": []
  },
  {
   "cell_type": "code",
   "execution_count": null,
   "id": "6041516f",
   "metadata": {},
   "outputs": [],
   "source": []
  },
  {
   "cell_type": "code",
   "execution_count": 48,
   "id": "72330805",
   "metadata": {},
   "outputs": [
    {
     "data": {
      "image/png": "[encoded data removed]",
      "text/plain": [
       "<Figure size 720x504 with 1 Axes>"
      ]
     },
     "metadata": {
      "needs_background": "light"
     },
     "output_type": "display_data"
    }
   ],
   "source": [
    "data = [scl2011, scl2013, scl2014, dfSCL]\n",
    " \n",
    "fig = plt.figure(figsize =(10, 7))\n",
    " \n",
    "# Creating axes instance\n",
    "ax = fig.add_axes([0,0,1,1])\n",
    " \n",
    "# Creating plot\n",
    "bp = ax.boxplot(data)\n",
    " \n",
    "# show plot\n",
    "plt.show()"
   ]
  },
  {
   "cell_type": "code",
   "execution_count": 49,
   "id": "7e64fae2",
   "metadata": {},
   "outputs": [
    {
     "data": {
      "text/plain": [
       "(array([ 3.,  2., 46., 90., 21., 16.,  8., 12., 16.,  5.]),\n",
       " array([ 5.4 , 13.67, 21.94, 30.21, 38.48, 46.75, 55.02, 63.29, 71.56,\n",
       "        79.83, 88.1 ]),\n",
       " <BarContainer object of 10 artists>)"
      ]
     },
     "execution_count": 49,
     "metadata": {},
     "output_type": "execute_result"
    },
    {
     "data": {
      "image/png": "[encoded data removed]",
      "text/plain": [
       "<Figure size 432x288 with 1 Axes>"
      ]
     },
     "metadata": {
      "needs_background": "light"
     },
     "output_type": "display_data"
    }
   ],
   "source": [
    "plt.hist(dfSCL)"
   ]
  },
  {
   "cell_type": "code",
   "execution_count": 50,
   "id": "e05ffd05",
   "metadata": {},
   "outputs": [
    {
     "data": {
      "text/plain": [
       "count    219.000000\n",
       "mean      40.907763\n",
       "std       16.788339\n",
       "min        5.400000\n",
       "25%       30.750000\n",
       "50%       34.700000\n",
       "75%       47.600000\n",
       "max       88.100000\n",
       "Name: SCL, dtype: float64"
      ]
     },
     "execution_count": 50,
     "metadata": {},
     "output_type": "execute_result"
    }
   ],
   "source": [
    "dfSCL.describe()"
   ]
  },
  {
   "cell_type": "code",
   "execution_count": 51,
   "id": "fc275713",
   "metadata": {},
   "outputs": [
    {
     "data": {
      "text/plain": [
       "(array([  2.,   3.,   7.,  36., 149., 352., 403., 271., 128.,  27.]),\n",
       " array([29.3 , 29.99, 30.68, 31.37, 32.06, 32.75, 33.44, 34.13, 34.82,\n",
       "        35.51, 36.2 ]),\n",
       " <BarContainer object of 10 artists>)"
      ]
     },
     "execution_count": 51,
     "metadata": {},
     "output_type": "execute_result"
    },
    {
     "data": {
      "image/png": "[encoded data removed]",
      "text/plain": [
       "<Figure size 432x288 with 1 Axes>"
      ]
     },
     "metadata": {
      "needs_background": "light"
     },
     "output_type": "display_data"
    }
   ],
   "source": [
    "plt.hist(scl)"
   ]
  },
  {
   "cell_type": "code",
   "execution_count": 52,
   "id": "27b72d22",
   "metadata": {},
   "outputs": [
    {
     "data": {
      "text/html": [
       "<div>\n",
       "<style scoped>\n",
       "    .dataframe tbody tr th:only-of-type {\n",
       "        vertical-align: middle;\n",
       "    }\n",
       "\n",
       "    .dataframe tbody tr th {\n",
       "        vertical-align: top;\n",
       "    }\n",
       "\n",
       "    .dataframe thead th {\n",
       "        text-align: right;\n",
       "    }\n",
       "</style>\n",
       "<table border=\"1\" class=\"dataframe\">\n",
       "  <thead>\n",
       "    <tr style=\"text-align: right;\">\n",
       "      <th></th>\n",
       "      <th>LENGTH</th>\n",
       "    </tr>\n",
       "  </thead>\n",
       "  <tbody>\n",
       "    <tr>\n",
       "      <th>count</th>\n",
       "      <td>1378.000000</td>\n",
       "    </tr>\n",
       "    <tr>\n",
       "      <th>mean</th>\n",
       "      <td>33.762119</td>\n",
       "    </tr>\n",
       "    <tr>\n",
       "      <th>std</th>\n",
       "      <td>0.940852</td>\n",
       "    </tr>\n",
       "    <tr>\n",
       "      <th>min</th>\n",
       "      <td>29.300000</td>\n",
       "    </tr>\n",
       "    <tr>\n",
       "      <th>25%</th>\n",
       "      <td>33.000000</td>\n",
       "    </tr>\n",
       "    <tr>\n",
       "      <th>50%</th>\n",
       "      <td>33.700000</td>\n",
       "    </tr>\n",
       "    <tr>\n",
       "      <th>75%</th>\n",
       "      <td>34.500000</td>\n",
       "    </tr>\n",
       "    <tr>\n",
       "      <th>max</th>\n",
       "      <td>36.200000</td>\n",
       "    </tr>\n",
       "  </tbody>\n",
       "</table>\n",
       "</div>"
      ],
      "text/plain": [
       "            LENGTH\n",
       "count  1378.000000\n",
       "mean     33.762119\n",
       "std       0.940852\n",
       "min      29.300000\n",
       "25%      33.000000\n",
       "50%      33.700000\n",
       "75%      34.500000\n",
       "max      36.200000"
      ]
     },
     "execution_count": 52,
     "metadata": {},
     "output_type": "execute_result"
    }
   ],
   "source": [
    "scl.describe()"
   ]
  },
  {
   "cell_type": "code",
   "execution_count": null,
   "id": "860d64a7",
   "metadata": {},
   "outputs": [],
   "source": []
  }
 ],
 "metadata": {
  "kernelspec": {
   "display_name": "Python 3",
   "language": "python",
   "name": "python3"
  },
  "language_info": {
   "codemirror_mode": {
    "name": "ipython",
    "version": 3
   },
   "file_extension": ".py",
   "mimetype": "text/x-python",
   "name": "python",
   "nbconvert_exporter": "python",
   "pygments_lexer": "ipython3",
   "version": "3.8.2"
  }
 },
 "nbformat": 4,
 "nbformat_minor": 5
}
